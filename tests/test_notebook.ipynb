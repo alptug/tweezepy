{
 "cells": [
  {
   "cell_type": "code",
   "execution_count": 4,
   "metadata": {
    "ExecuteTime": {
     "end_time": "2020-11-02T15:28:05.601206Z",
     "start_time": "2020-11-02T15:28:05.523380Z"
    }
   },
   "outputs": [
    {
     "name": "stdout",
     "output_type": "stream",
     "text": [
      "The autoreload extension is already loaded. To reload it, use:\n",
      "  %reload_ext autoreload\n"
     ]
    }
   ],
   "source": [
    "%matplotlib inline\n",
    "%load_ext autoreload\n",
    "%autoreload 2"
   ]
  },
  {
   "cell_type": "code",
   "execution_count": 2,
   "metadata": {
    "ExecuteTime": {
     "end_time": "2020-11-01T17:04:20.491700Z",
     "start_time": "2020-11-01T17:04:19.660639Z"
    }
   },
   "outputs": [
    {
     "data": {
      "text/plain": [
       "-1.0"
      ]
     },
     "execution_count": 2,
     "metadata": {},
     "output_type": "execute_result"
    }
   ],
   "source": [
    "import numpy as np\n",
    "import unittest\n",
    "from tweezepy.smmcalibration import loglikelihood\n",
    "loglikelihood(1,1,1)"
   ]
  },
  {
   "cell_type": "code",
   "execution_count": 85,
   "metadata": {
    "ExecuteTime": {
     "end_time": "2020-10-31T16:28:07.914953Z",
     "start_time": "2020-10-31T16:28:07.901996Z"
    }
   },
   "outputs": [
    {
     "data": {
      "text/plain": [
       "array([1, 2])"
      ]
     },
     "execution_count": 85,
     "metadata": {},
     "output_type": "execute_result"
    }
   ],
   "source": [
    "import tweezepy.smmcalibration as smm\n",
    "smm.aliasPSD(1,1,1,1)\n",
    "smm.lansdorpPSD(1,1,1,1)\n",
    "smm.lansdorpPSD2(1,1,1,1,1)\n",
    "smm.SMMAV(1,1,1)\n",
    "smm.SMMAV2(1,1,1,1)\n",
    "smm.m_generator(10)"
   ]
  },
  {
   "cell_type": "code",
   "execution_count": 86,
   "metadata": {
    "ExecuteTime": {
     "end_time": "2020-10-31T16:28:18.330463Z",
     "start_time": "2020-10-31T16:28:18.325511Z"
    }
   },
   "outputs": [
    {
     "data": {
      "text/plain": [
       "array([1, 2])"
      ]
     },
     "execution_count": 86,
     "metadata": {},
     "output_type": "execute_result"
    }
   ],
   "source": [
    "smm.m_generator(10)"
   ]
  },
  {
   "cell_type": "code",
   "execution_count": null,
   "metadata": {},
   "outputs": [],
   "source": [
    "from tweezepy.smmcalibration import aliasPSD,lansdorpPSD,lansdorpPSD2,SMMAV,SMMAV2"
   ]
  },
  {
   "cell_type": "code",
   "execution_count": 34,
   "metadata": {
    "ExecuteTime": {
     "end_time": "2020-10-30T21:37:17.606776Z",
     "start_time": "2020-10-30T21:37:17.394203Z"
    }
   },
   "outputs": [],
   "source": [
    "assert aliasPSD(1,1,1,1) == 8.872208996328476"
   ]
  },
  {
   "cell_type": "code",
   "execution_count": 56,
   "metadata": {
    "ExecuteTime": {
     "end_time": "2020-10-30T21:44:13.460027Z",
     "start_time": "2020-10-30T21:44:13.138919Z"
    }
   },
   "outputs": [],
   "source": [
    "class MethodTests(unittest.TestCase):\n",
    "    def test_loglikelihood(self):\n",
    "        self.assertEqual(loglikelihood(1,1,1),-1.0)\n",
    "    def test_aliasPSD(self):\n",
    "        self.assertAlmostEqual(aliasPSD(1,1,1,1),8.872208996328476)\n",
    "    def test_lansdorpPSD(self):\n",
    "        self.assertAlmostEqual(lansdorpPSD(1,1,1,1),8.2)\n",
    "    def test_lansdorpPSD2(self):\n",
    "        self.assertAlmostEqual(lansdorpPSD2(1,1,1,1,1),9.2)"
   ]
  },
  {
   "cell_type": "code",
   "execution_count": 57,
   "metadata": {
    "ExecuteTime": {
     "end_time": "2020-10-30T21:44:14.269942Z",
     "start_time": "2020-10-30T21:44:14.041635Z"
    }
   },
   "outputs": [],
   "source": [
    "mt = MethodTests()\n",
    "mt.test_lansdorpPSD2()"
   ]
  },
  {
   "cell_type": "code",
   "execution_count": 52,
   "metadata": {
    "ExecuteTime": {
     "end_time": "2020-10-30T22:45:16.775091Z",
     "start_time": "2020-10-30T22:45:16.764083Z"
    }
   },
   "outputs": [],
   "source": [
    "from tweezepy.smmcalibration import psd\n",
    "np.random.seed(0)\n",
    "ran = np.random.normal(0,1,100)\n",
    "f,dens = psd(ran,1,1)\n",
    "outfile = 'test_psd.npz'\n",
    "np.savez(outfile,f=f,dens=dens)"
   ]
  },
  {
   "cell_type": "code",
   "execution_count": 74,
   "metadata": {
    "ExecuteTime": {
     "end_time": "2020-10-30T21:56:44.489277Z",
     "start_time": "2020-10-30T21:56:44.245882Z"
    }
   },
   "outputs": [
    {
     "data": {
      "text/plain": [
       "array([4.76640575, 4.02777051, 0.77295682, 0.07649521, 0.29256722,\n",
       "       0.53128343, 0.4260453 , 1.42107795, 0.11931608, 0.9432883 ,\n",
       "       0.65659058, 0.96072737, 1.32352081, 1.00324029, 3.27559378,\n",
       "       3.16233137, 1.21664534, 0.13446321, 0.03733682, 0.23662722,\n",
       "       0.05709442, 0.27654579, 0.17643201, 0.5539893 , 1.03095454,\n",
       "       0.78024076, 1.30312167, 0.67140806, 1.42187452, 0.9855343 ,\n",
       "       0.70351122, 0.10029112, 0.58992168, 1.04552226, 0.5102238 ,\n",
       "       0.19765678, 0.18138225, 0.88427853, 0.07408301, 1.42230914,\n",
       "       2.20224599, 0.48425979, 1.10987138, 0.1499655 , 0.65060419,\n",
       "       0.44499969, 0.66160873, 1.17717034, 2.82508474, 1.618224  ,\n",
       "       0.78859457, 1.618224  , 2.82508474, 1.17717034, 0.66160873,\n",
       "       0.44499969, 0.65060419, 0.1499655 , 1.10987138, 0.48425979,\n",
       "       2.20224599, 1.42230914, 0.07408301, 0.88427853, 0.18138225,\n",
       "       0.19765678, 0.5102238 , 1.04552226, 0.58992168, 0.10029112,\n",
       "       0.70351122, 0.9855343 , 1.42187452, 0.67140806, 1.30312167,\n",
       "       0.78024076, 1.03095454, 0.5539893 , 0.17643201, 0.27654579,\n",
       "       0.05709442, 0.23662722, 0.03733682, 0.13446321, 1.21664534,\n",
       "       3.16233137, 3.27559378, 1.00324029, 1.32352081, 0.96072737,\n",
       "       0.65659058, 0.9432883 , 0.11931608, 1.42107795, 0.4260453 ,\n",
       "       0.53128343, 0.29256722, 0.07649521, 0.77295682, 4.02777051])"
      ]
     },
     "execution_count": 74,
     "metadata": {},
     "output_type": "execute_result"
    }
   ],
   "source": [
    "outfile = 'test_psd.npz'\n",
    "data = np.load(outfile)\n",
    "data['f']\n",
    "data['dens']"
   ]
  },
  {
   "cell_type": "code",
   "execution_count": 82,
   "metadata": {
    "ExecuteTime": {
     "end_time": "2020-10-30T22:01:36.836657Z",
     "start_time": "2020-10-30T22:01:36.604189Z"
    }
   },
   "outputs": [],
   "source": [
    "class PSDTests(unittest.TestCase):\n",
    "    def test_psd(self):\n",
    "        np.random.seed(0)\n",
    "        ran = np.random.normal(0,1,100)\n",
    "        f,dens = psd(ran,1,1)\n",
    "        data = np.load('test_psd.npz')\n",
    "        self.assertIsNone(np.testing.assert_array_equal(f, data['f']))\n",
    "        self.assertIsNone(np.testing.assert_array_equal(dens, data['dens']))\n",
    "psdtests = PSDTests()\n",
    "psdtests.test_psd()"
   ]
  },
  {
   "cell_type": "code",
   "execution_count": 1,
   "metadata": {
    "ExecuteTime": {
     "end_time": "2020-10-30T22:29:10.780931Z",
     "start_time": "2020-10-30T22:29:09.105448Z"
    }
   },
   "outputs": [],
   "source": [
    "from tweezepy.smmcalibration import oavar\n",
    "np.random.seed(0)\n",
    "ran = np.random.normal(0,1,100)\n",
    "tau,eta,oav = oavar(ran,1)\n",
    "outfile = 'test_oavar.npz'\n",
    "np.savez(outfile,tau = tau,eta=eta,oav=oav)"
   ]
  },
  {
   "cell_type": "code",
   "execution_count": 5,
   "metadata": {
    "ExecuteTime": {
     "end_time": "2020-10-30T22:29:36.377387Z",
     "start_time": "2020-10-30T22:29:36.361456Z"
    }
   },
   "outputs": [],
   "source": [
    "import numpy as p\n",
    "from tweezepy.smmcalibration import totvar\n",
    "np.random.seed(0)\n",
    "ran = np.random.normal(0,1,100)\n",
    "tau,eta,oav = totvar(ran,1)\n",
    "outfile = 'test_totvar.npz'\n",
    "np.savez(outfile,tau = tau,eta=eta,oav=oav)"
   ]
  },
  {
   "cell_type": "code",
   "execution_count": null,
   "metadata": {},
   "outputs": [],
   "source": []
  },
  {
   "cell_type": "code",
   "execution_count": 22,
   "metadata": {
    "ExecuteTime": {
     "end_time": "2020-11-02T17:28:01.438869Z",
     "start_time": "2020-11-02T17:28:01.232420Z"
    }
   },
   "outputs": [
    {
     "data": {
      "text/plain": [
       "' Total variance.\\n        Better confidence at long averages for Allan variance.\\n    .. math::\\n        \\\\sigma^2_{TOTDEV}( m\\\\tau_0 ) = { 1 \\\\over 2 (m\\\\tau_0)^2 (N-2) }\\n            \\\\sum_{i=2}^{N-1} ( {x}^*_{i-m} - 2x^*_{i} + x^*_{i+m} )^2\\n    where :math:`x^*_i` is a new time-series of length :math:`3N-4`\\n    derived from the original phase time-series :math:`x_n` of\\n    length :math:`N` by reflection at both ends.\\n    Parameters\\n    ----------\\n    data: np.array\\n        Bead positions.\\n    rate: float\\n        The sampling rate for phase or frequency, in Hz\\n    taus: np.array\\n        Array of tau values for which to compute measurement\\n    '"
      ]
     },
     "execution_count": 22,
     "metadata": {},
     "output_type": "execute_result"
    }
   ],
   "source": [
    "def set_unit(unit):\n",
    "    \"\"\"Register a unit on a function\"\"\"\n",
    "    def decorator_set_unit(func):\n",
    "        func.unit = unit\n",
    "        return func\n",
    "    return decorator_set_unit\n",
    "\n",
    "def aliasPSD(f,fs,a,k):\n",
    "    \"\"\"\n",
    "    math\n",
    "    Docstring\n",
    "    \"\"\"\n",
    "    kT = 4.1 # thermal energy in pNnm\n",
    "    return kT/(k*fs) * (np.sinh(k/(a*fs))/(np.cosh(k/(a*fs))-np.cos(2*np.pi*f/fs)))\n",
    "\n",
    "def totvar(data, rate=1.0, taus=None):\n",
    "    \"\"\" Total variance.\n",
    "        Better confidence at long averages for Allan variance.\n",
    "    .. math::\n",
    "        \\\\sigma^2_{TOTDEV}( m\\\\tau_0 ) = { 1 \\\\over 2 (m\\\\tau_0)^2 (N-2) }\n",
    "            \\\\sum_{i=2}^{N-1} ( {x}^*_{i-m} - 2x^*_{i} + x^*_{i+m} )^2\n",
    "    where :math:`x^*_i` is a new time-series of length :math:`3N-4`\n",
    "    derived from the original phase time-series :math:`x_n` of\n",
    "    length :math:`N` by reflection at both ends.\n",
    "    Parameters\n",
    "    ----------\n",
    "    data: np.array\n",
    "        Bead positions.\n",
    "    rate: float\n",
    "        The sampling rate for phase or frequency, in Hz\n",
    "    taus: np.array\n",
    "        Array of tau values for which to compute measurement\n",
    "    \"\"\"\n",
    "    data = np.asarray(data)\n",
    "    N = len(data)\n",
    "    m = m_generator(N,taus=taus)\n",
    "    taus = m/rate\n",
    "    shapes = (N/m-1)//2\n",
    "\n",
    "totvar.__doc_"
   ]
  },
  {
   "cell_type": "code",
   "execution_count": 12,
   "metadata": {
    "ExecuteTime": {
     "end_time": "2020-11-02T17:15:35.045457Z",
     "start_time": "2020-11-02T17:15:34.813065Z"
    }
   },
   "outputs": [
    {
     "data": {
      "text/plain": [
       "'nm^2/Hz'"
      ]
     },
     "execution_count": 12,
     "metadata": {},
     "output_type": "execute_result"
    }
   ],
   "source": [
    "aliasPSD.unit"
   ]
  },
  {
   "cell_type": "code",
   "execution_count": 10,
   "metadata": {
    "ExecuteTime": {
     "end_time": "2020-11-02T17:14:57.500266Z",
     "start_time": "2020-11-02T17:14:57.301760Z"
    }
   },
   "outputs": [
    {
     "ename": "AttributeError",
     "evalue": "'numpy.float64' object has no attribute 'unit'",
     "output_type": "error",
     "traceback": [
      "\u001b[1;31m---------------------------------------------------------------------------\u001b[0m",
      "\u001b[1;31mAttributeError\u001b[0m                            Traceback (most recent call last)",
      "\u001b[1;32m<ipython-input-10-87a88724a34c>\u001b[0m in \u001b[0;36m<module>\u001b[1;34m\u001b[0m\n\u001b[1;32m----> 1\u001b[1;33m \u001b[0map\u001b[0m\u001b[1;33m.\u001b[0m\u001b[0munit\u001b[0m\u001b[1;33m\u001b[0m\u001b[1;33m\u001b[0m\u001b[0m\n\u001b[0m",
      "\u001b[1;31mAttributeError\u001b[0m: 'numpy.float64' object has no attribute 'unit'"
     ]
    }
   ],
   "source": [
    "ap."
   ]
  },
  {
   "cell_type": "code",
   "execution_count": 24,
   "metadata": {
    "ExecuteTime": {
     "end_time": "2020-11-02T17:42:55.789495Z",
     "start_time": "2020-11-02T17:42:55.515190Z"
    }
   },
   "outputs": [
    {
     "name": "stderr",
     "output_type": "stream",
     "text": [
      "C:\\Users\\ianmo\\Anaconda3\\lib\\site-packages\\autograd\\tracer.py:48: RuntimeWarning: overflow encountered in sinh\n",
      "  return f_raw(*args, **kwargs)\n",
      "C:\\Users\\ianmo\\Anaconda3\\lib\\site-packages\\autograd\\tracer.py:48: RuntimeWarning: overflow encountered in cosh\n",
      "  return f_raw(*args, **kwargs)\n",
      "c:\\users\\ianmo\\google drive\\lab code\\tweezepy\\tweezepy\\smmcalibration.py:635: RuntimeWarning: invalid value encountered in true_divide\n",
      "  Acquisition frequency.\n"
     ]
    },
    {
     "ename": "ValueError",
     "evalue": "Residuals are not finite in the initial point.",
     "output_type": "error",
     "traceback": [
      "\u001b[1;31m---------------------------------------------------------------------------\u001b[0m",
      "\u001b[1;31mValueError\u001b[0m                                Traceback (most recent call last)",
      "\u001b[1;32m<ipython-input-24-e7646bcaa57d>\u001b[0m in \u001b[0;36m<module>\u001b[1;34m\u001b[0m\n\u001b[0;32m      4\u001b[0m \u001b[0mpsd\u001b[0m \u001b[1;33m=\u001b[0m \u001b[0msmm\u001b[0m\u001b[1;33m.\u001b[0m\u001b[0mPSD\u001b[0m\u001b[1;33m(\u001b[0m\u001b[0mran\u001b[0m\u001b[1;33m,\u001b[0m\u001b[1;36m1\u001b[0m\u001b[1;33m,\u001b[0m\u001b[1;36m1\u001b[0m\u001b[1;33m)\u001b[0m\u001b[1;33m\u001b[0m\u001b[1;33m\u001b[0m\u001b[0m\n\u001b[0;32m      5\u001b[0m \u001b[0mdata\u001b[0m \u001b[1;33m=\u001b[0m \u001b[0mpsd\u001b[0m\u001b[1;33m.\u001b[0m\u001b[0mdata\u001b[0m\u001b[1;33m\u001b[0m\u001b[1;33m\u001b[0m\u001b[0m\n\u001b[1;32m----> 6\u001b[1;33m \u001b[0mpsd\u001b[0m\u001b[1;33m.\u001b[0m\u001b[0mmlefit\u001b[0m\u001b[1;33m(\u001b[0m\u001b[1;33m)\u001b[0m\u001b[1;33m\u001b[0m\u001b[1;33m\u001b[0m\u001b[0m\n\u001b[0m\u001b[0;32m      7\u001b[0m \u001b[1;31m#outfile = 'test_psdclass.npz'\u001b[0m\u001b[1;33m\u001b[0m\u001b[1;33m\u001b[0m\u001b[1;33m\u001b[0m\u001b[0m\n\u001b[0;32m      8\u001b[0m \u001b[1;31m#np.savez(outfile,x=data['x'],y=data['y'],yerr=data['yerr'])\u001b[0m\u001b[1;33m\u001b[0m\u001b[1;33m\u001b[0m\u001b[1;33m\u001b[0m\u001b[0m\n",
      "\u001b[1;32mc:\\users\\ianmo\\google drive\\lab code\\tweezepy\\tweezepy\\smmcalibration.py\u001b[0m in \u001b[0;36mmlefit\u001b[1;34m(self, fitfunc, guess, alpha, **kwargs)\u001b[0m\n\u001b[0;32m    386\u001b[0m                 \u001b[0mguess\u001b[0m\u001b[1;33m.\u001b[0m\u001b[0mpop\u001b[0m\u001b[1;33m(\u001b[0m\u001b[1;36m0\u001b[0m\u001b[1;33m)\u001b[0m\u001b[1;33m\u001b[0m\u001b[1;33m\u001b[0m\u001b[0m\n\u001b[0;32m    387\u001b[0m         \u001b[0mself\u001b[0m\u001b[1;33m.\u001b[0m\u001b[0mguess\u001b[0m \u001b[1;33m=\u001b[0m \u001b[0mguess\u001b[0m\u001b[1;33m\u001b[0m\u001b[1;33m\u001b[0m\u001b[0m\n\u001b[1;32m--> 388\u001b[1;33m         \u001b[0mcalibration\u001b[0m\u001b[1;33m.\u001b[0m\u001b[0mmlefit\u001b[0m\u001b[1;33m(\u001b[0m\u001b[0mself\u001b[0m\u001b[1;33m,\u001b[0m \u001b[0mfitfunc\u001b[0m\u001b[1;33m,\u001b[0m \u001b[0mguess\u001b[0m\u001b[1;33m,\u001b[0m \u001b[1;33m**\u001b[0m\u001b[0mkwargs\u001b[0m\u001b[1;33m)\u001b[0m\u001b[1;33m\u001b[0m\u001b[1;33m\u001b[0m\u001b[0m\n\u001b[0m\u001b[0;32m    389\u001b[0m         \u001b[1;32mreturn\u001b[0m \u001b[0mself\u001b[0m\u001b[1;33m\u001b[0m\u001b[1;33m\u001b[0m\u001b[0m\n\u001b[0;32m    390\u001b[0m \u001b[1;33m\u001b[0m\u001b[0m\n",
      "\u001b[1;32mc:\\users\\ianmo\\google drive\\lab code\\tweezepy\\tweezepy\\smmcalibration.py\u001b[0m in \u001b[0;36mmlefit\u001b[1;34m(self, func, guess, pedantic, **kwargs)\u001b[0m\n\u001b[0;32m    257\u001b[0m         \u001b[0my\u001b[0m \u001b[1;33m=\u001b[0m \u001b[0mdata\u001b[0m\u001b[1;33m[\u001b[0m\u001b[1;34m'y'\u001b[0m\u001b[1;33m]\u001b[0m\u001b[1;33m\u001b[0m\u001b[1;33m\u001b[0m\u001b[0m\n\u001b[0;32m    258\u001b[0m         \u001b[0myerr\u001b[0m \u001b[1;33m=\u001b[0m \u001b[0mdata\u001b[0m\u001b[1;33m[\u001b[0m\u001b[1;34m'yerr'\u001b[0m\u001b[1;33m]\u001b[0m\u001b[1;33m\u001b[0m\u001b[1;33m\u001b[0m\u001b[0m\n\u001b[1;32m--> 259\u001b[1;33m         \u001b[0mMLEfit\u001b[0m\u001b[1;33m.\u001b[0m\u001b[0m__init__\u001b[0m\u001b[1;33m(\u001b[0m\u001b[0mself\u001b[0m\u001b[1;33m,\u001b[0m\u001b[0mfunc\u001b[0m\u001b[1;33m,\u001b[0m\u001b[0mx\u001b[0m\u001b[1;33m,\u001b[0m\u001b[0mshape\u001b[0m\u001b[1;33m,\u001b[0m\u001b[0my\u001b[0m\u001b[1;33m,\u001b[0m\u001b[0msigma\u001b[0m\u001b[1;33m=\u001b[0m\u001b[0myerr\u001b[0m\u001b[1;33m,\u001b[0m\u001b[0mguess\u001b[0m\u001b[1;33m=\u001b[0m\u001b[0mguess\u001b[0m\u001b[1;33m,\u001b[0m \u001b[1;33m**\u001b[0m\u001b[0mkwargs\u001b[0m\u001b[1;33m)\u001b[0m\u001b[1;33m\u001b[0m\u001b[1;33m\u001b[0m\u001b[0m\n\u001b[0m\u001b[0;32m    260\u001b[0m         \u001b[0mself\u001b[0m\u001b[1;33m.\u001b[0m\u001b[0mdata\u001b[0m\u001b[1;33m[\u001b[0m\u001b[1;34m'yfit'\u001b[0m\u001b[1;33m]\u001b[0m \u001b[1;33m=\u001b[0m \u001b[0mfunc\u001b[0m\u001b[1;33m(\u001b[0m\u001b[0mx\u001b[0m\u001b[1;33m,\u001b[0m\u001b[1;33m*\u001b[0m\u001b[0mself\u001b[0m\u001b[1;33m.\u001b[0m\u001b[0mparams\u001b[0m\u001b[1;33m)\u001b[0m\u001b[1;33m\u001b[0m\u001b[1;33m\u001b[0m\u001b[0m\n\u001b[0;32m    261\u001b[0m \u001b[1;33m\u001b[0m\u001b[0m\n",
      "\u001b[1;32mc:\\users\\ianmo\\google drive\\lab code\\tweezepy\\tweezepy\\smmcalibration.py\u001b[0m in \u001b[0;36m__init__\u001b[1;34m(self, func, x, shape, y, sigma, guess, bounds, **kwargs)\u001b[0m\n\u001b[0;32m     52\u001b[0m         \u001b[0my\u001b[0m \u001b[1;33m=\u001b[0m \u001b[0mnp\u001b[0m\u001b[1;33m.\u001b[0m\u001b[0masarray\u001b[0m\u001b[1;33m(\u001b[0m\u001b[0my\u001b[0m\u001b[1;33m)\u001b[0m\u001b[1;33m;\u001b[0m \u001b[0mself\u001b[0m\u001b[1;33m.\u001b[0m\u001b[0my\u001b[0m\u001b[1;33m=\u001b[0m\u001b[0my\u001b[0m\u001b[1;33m\u001b[0m\u001b[1;33m\u001b[0m\u001b[0m\n\u001b[0;32m     53\u001b[0m         \u001b[1;31m# Biased nonlinear least squares fit to get good starting values\u001b[0m\u001b[1;33m\u001b[0m\u001b[1;33m\u001b[0m\u001b[1;33m\u001b[0m\u001b[0m\n\u001b[1;32m---> 54\u001b[1;33m         \u001b[0mpopt\u001b[0m\u001b[1;33m,\u001b[0m\u001b[0m_\u001b[0m \u001b[1;33m=\u001b[0m \u001b[0mcurve_fit\u001b[0m\u001b[1;33m(\u001b[0m\u001b[0mfunc\u001b[0m\u001b[1;33m,\u001b[0m\u001b[0mx\u001b[0m\u001b[1;33m,\u001b[0m\u001b[0my\u001b[0m\u001b[1;33m,\u001b[0m\u001b[0msigma\u001b[0m \u001b[1;33m=\u001b[0m \u001b[0msigma\u001b[0m\u001b[1;33m,\u001b[0m\u001b[0mabsolute_sigma\u001b[0m\u001b[1;33m=\u001b[0m\u001b[1;32mTrue\u001b[0m\u001b[1;33m,\u001b[0m \u001b[0mp0\u001b[0m \u001b[1;33m=\u001b[0m \u001b[0mguess\u001b[0m\u001b[1;33m,\u001b[0m \u001b[0mbounds\u001b[0m \u001b[1;33m=\u001b[0m \u001b[0mbounds\u001b[0m\u001b[1;33m)\u001b[0m\u001b[1;33m\u001b[0m\u001b[1;33m\u001b[0m\u001b[0m\n\u001b[0m\u001b[0;32m     55\u001b[0m         \u001b[1;31m# Minimize the negative log likelihood\u001b[0m\u001b[1;33m\u001b[0m\u001b[1;33m\u001b[0m\u001b[1;33m\u001b[0m\u001b[0m\n\u001b[0;32m     56\u001b[0m         \u001b[0mself\u001b[0m\u001b[1;33m.\u001b[0m\u001b[0mLL\u001b[0m \u001b[1;33m=\u001b[0m \u001b[1;32mlambda\u001b[0m \u001b[0mp\u001b[0m\u001b[1;33m:\u001b[0m \u001b[0mloglikelihood\u001b[0m\u001b[1;33m(\u001b[0m\u001b[0mshape\u001b[0m\u001b[1;33m,\u001b[0m\u001b[0my\u001b[0m\u001b[1;33m,\u001b[0m\u001b[0mfunc\u001b[0m\u001b[1;33m(\u001b[0m\u001b[0mx\u001b[0m\u001b[1;33m,\u001b[0m\u001b[1;33m*\u001b[0m\u001b[0mp\u001b[0m\u001b[1;33m)\u001b[0m\u001b[1;33m)\u001b[0m\u001b[1;33m\u001b[0m\u001b[1;33m\u001b[0m\u001b[0m\n",
      "\u001b[1;32m~\\Anaconda3\\lib\\site-packages\\scipy\\optimize\\minpack.py\u001b[0m in \u001b[0;36mcurve_fit\u001b[1;34m(f, xdata, ydata, p0, sigma, absolute_sigma, check_finite, bounds, method, jac, **kwargs)\u001b[0m\n\u001b[0;32m    794\u001b[0m \u001b[1;33m\u001b[0m\u001b[0m\n\u001b[0;32m    795\u001b[0m         res = least_squares(func, p0, jac=jac, bounds=bounds, method=method,\n\u001b[1;32m--> 796\u001b[1;33m                             **kwargs)\n\u001b[0m\u001b[0;32m    797\u001b[0m \u001b[1;33m\u001b[0m\u001b[0m\n\u001b[0;32m    798\u001b[0m         \u001b[1;32mif\u001b[0m \u001b[1;32mnot\u001b[0m \u001b[0mres\u001b[0m\u001b[1;33m.\u001b[0m\u001b[0msuccess\u001b[0m\u001b[1;33m:\u001b[0m\u001b[1;33m\u001b[0m\u001b[1;33m\u001b[0m\u001b[0m\n",
      "\u001b[1;32m~\\Anaconda3\\lib\\site-packages\\scipy\\optimize\\_lsq\\least_squares.py\u001b[0m in \u001b[0;36mleast_squares\u001b[1;34m(fun, x0, jac, bounds, method, ftol, xtol, gtol, x_scale, loss, f_scale, diff_step, tr_solver, tr_options, jac_sparsity, max_nfev, verbose, args, kwargs)\u001b[0m\n\u001b[0;32m    812\u001b[0m \u001b[1;33m\u001b[0m\u001b[0m\n\u001b[0;32m    813\u001b[0m     \u001b[1;32mif\u001b[0m \u001b[1;32mnot\u001b[0m \u001b[0mnp\u001b[0m\u001b[1;33m.\u001b[0m\u001b[0mall\u001b[0m\u001b[1;33m(\u001b[0m\u001b[0mnp\u001b[0m\u001b[1;33m.\u001b[0m\u001b[0misfinite\u001b[0m\u001b[1;33m(\u001b[0m\u001b[0mf0\u001b[0m\u001b[1;33m)\u001b[0m\u001b[1;33m)\u001b[0m\u001b[1;33m:\u001b[0m\u001b[1;33m\u001b[0m\u001b[1;33m\u001b[0m\u001b[0m\n\u001b[1;32m--> 814\u001b[1;33m         \u001b[1;32mraise\u001b[0m \u001b[0mValueError\u001b[0m\u001b[1;33m(\u001b[0m\u001b[1;34m\"Residuals are not finite in the initial point.\"\u001b[0m\u001b[1;33m)\u001b[0m\u001b[1;33m\u001b[0m\u001b[1;33m\u001b[0m\u001b[0m\n\u001b[0m\u001b[0;32m    815\u001b[0m \u001b[1;33m\u001b[0m\u001b[0m\n\u001b[0;32m    816\u001b[0m     \u001b[0mn\u001b[0m \u001b[1;33m=\u001b[0m \u001b[0mx0\u001b[0m\u001b[1;33m.\u001b[0m\u001b[0msize\u001b[0m\u001b[1;33m\u001b[0m\u001b[1;33m\u001b[0m\u001b[0m\n",
      "\u001b[1;31mValueError\u001b[0m: Residuals are not finite in the initial point."
     ]
    }
   ],
   "source": [
    "import tweezepy.smmcalibration as smm\n",
    "np.random.seed(0)\n",
    "ran = np.random.normal(0,1,100)\n",
    "psd = smm.PSD(ran,1,1)\n",
    "data = psd.data\n",
    "psd.mlefit()\n",
    "#outfile = 'test_psdclass.npz'\n",
    "#np.savez(outfile,x=data['x'],y=data['y'],yerr=data['yerr'])"
   ]
  },
  {
   "cell_type": "code",
   "execution_count": 55,
   "metadata": {
    "ExecuteTime": {
     "end_time": "2020-10-30T22:58:42.703410Z",
     "start_time": "2020-10-30T22:58:42.686458Z"
    }
   },
   "outputs": [],
   "source": [
    "import tweezepy.smmcalibration as smm\n",
    "np.random.seed(0)\n",
    "ran = np.random.normal(0,1,100)\n",
    "av = smm.AV(ran,1)\n",
    "data = av.data\n",
    "outfile = 'test_avclass.npz'\n",
    "np.savez(outfile,x=data['x'],y=data['y'],yerr=data['yerr'])"
   ]
  },
  {
   "cell_type": "code",
   "execution_count": 49,
   "metadata": {
    "ExecuteTime": {
     "end_time": "2020-10-30T22:42:06.732379Z",
     "start_time": "2020-10-30T22:42:06.724404Z"
    }
   },
   "outputs": [
    {
     "data": {
      "text/plain": [
       "['x', 'y', 'yerr']"
      ]
     },
     "execution_count": 49,
     "metadata": {},
     "output_type": "execute_result"
    }
   ],
   "source": [
    "outfile = 'test_PSD.npz'\n",
    "data = np.load(outfile)\n",
    "data.files"
   ]
  },
  {
   "cell_type": "code",
   "execution_count": 46,
   "metadata": {
    "ExecuteTime": {
     "end_time": "2020-10-30T22:41:05.252250Z",
     "start_time": "2020-10-30T22:41:05.227553Z"
    }
   },
   "outputs": [
    {
     "ename": "ValueError",
     "evalue": "Object arrays cannot be loaded when allow_pickle=False",
     "output_type": "error",
     "traceback": [
      "\u001b[1;31m---------------------------------------------------------------------------\u001b[0m",
      "\u001b[1;31mValueError\u001b[0m                                Traceback (most recent call last)",
      "\u001b[1;32m<ipython-input-46-0247585f6b05>\u001b[0m in \u001b[0;36m<module>\u001b[1;34m\u001b[0m\n\u001b[1;32m----> 1\u001b[1;33m \u001b[0mdata\u001b[0m\u001b[1;33m[\u001b[0m\u001b[1;34m'arr_0'\u001b[0m\u001b[1;33m]\u001b[0m\u001b[1;33m\u001b[0m\u001b[1;33m\u001b[0m\u001b[0m\n\u001b[0m",
      "\u001b[1;32m~\\Anaconda3\\lib\\site-packages\\numpy\\lib\\npyio.py\u001b[0m in \u001b[0;36m__getitem__\u001b[1;34m(self, key)\u001b[0m\n\u001b[0;32m    260\u001b[0m                 return format.read_array(bytes,\n\u001b[0;32m    261\u001b[0m                                          \u001b[0mallow_pickle\u001b[0m\u001b[1;33m=\u001b[0m\u001b[0mself\u001b[0m\u001b[1;33m.\u001b[0m\u001b[0mallow_pickle\u001b[0m\u001b[1;33m,\u001b[0m\u001b[1;33m\u001b[0m\u001b[1;33m\u001b[0m\u001b[0m\n\u001b[1;32m--> 262\u001b[1;33m                                          pickle_kwargs=self.pickle_kwargs)\n\u001b[0m\u001b[0;32m    263\u001b[0m             \u001b[1;32melse\u001b[0m\u001b[1;33m:\u001b[0m\u001b[1;33m\u001b[0m\u001b[1;33m\u001b[0m\u001b[0m\n\u001b[0;32m    264\u001b[0m                 \u001b[1;32mreturn\u001b[0m \u001b[0mself\u001b[0m\u001b[1;33m.\u001b[0m\u001b[0mzip\u001b[0m\u001b[1;33m.\u001b[0m\u001b[0mread\u001b[0m\u001b[1;33m(\u001b[0m\u001b[0mkey\u001b[0m\u001b[1;33m)\u001b[0m\u001b[1;33m\u001b[0m\u001b[1;33m\u001b[0m\u001b[0m\n",
      "\u001b[1;32m~\\Anaconda3\\lib\\site-packages\\numpy\\lib\\format.py\u001b[0m in \u001b[0;36mread_array\u001b[1;34m(fp, allow_pickle, pickle_kwargs)\u001b[0m\n\u001b[0;32m    737\u001b[0m         \u001b[1;31m# The array contained Python objects. We need to unpickle the data.\u001b[0m\u001b[1;33m\u001b[0m\u001b[1;33m\u001b[0m\u001b[1;33m\u001b[0m\u001b[0m\n\u001b[0;32m    738\u001b[0m         \u001b[1;32mif\u001b[0m \u001b[1;32mnot\u001b[0m \u001b[0mallow_pickle\u001b[0m\u001b[1;33m:\u001b[0m\u001b[1;33m\u001b[0m\u001b[1;33m\u001b[0m\u001b[0m\n\u001b[1;32m--> 739\u001b[1;33m             raise ValueError(\"Object arrays cannot be loaded when \"\n\u001b[0m\u001b[0;32m    740\u001b[0m                              \"allow_pickle=False\")\n\u001b[0;32m    741\u001b[0m         \u001b[1;32mif\u001b[0m \u001b[0mpickle_kwargs\u001b[0m \u001b[1;32mis\u001b[0m \u001b[1;32mNone\u001b[0m\u001b[1;33m:\u001b[0m\u001b[1;33m\u001b[0m\u001b[1;33m\u001b[0m\u001b[0m\n",
      "\u001b[1;31mValueError\u001b[0m: Object arrays cannot be loaded when allow_pickle=False"
     ]
    }
   ],
   "source": [
    "data['arr_0']"
   ]
  },
  {
   "cell_type": "code",
   "execution_count": 75,
   "metadata": {
    "ExecuteTime": {
     "end_time": "2020-10-30T23:11:46.589812Z",
     "start_time": "2020-10-30T23:11:44.149363Z"
    }
   },
   "outputs": [],
   "source": [
    "from tweezepy.simulations import downsampled_trace\n",
    "xtrace = downsampled_trace(seed = 0)\n",
    "outfile = 'test_data.npz'\n",
    "np.savez(outfile,data=xtrace)\n",
    "\n"
   ]
  },
  {
   "cell_type": "code",
   "execution_count": 152,
   "metadata": {
    "ExecuteTime": {
     "end_time": "2020-10-31T20:39:16.043261Z",
     "start_time": "2020-10-31T20:39:15.838819Z"
    }
   },
   "outputs": [],
   "source": [
    "\n",
    "\n",
    "f,dens = smm.psd(xtrace,100,2)\n",
    "outfile = 'test_psd.npz'\n",
    "np.savez(outfile,f=f,dens=dens)\n",
    "\n"
   ]
  },
  {
   "cell_type": "code",
   "execution_count": 80,
   "metadata": {
    "ExecuteTime": {
     "end_time": "2020-10-30T23:22:52.037891Z",
     "start_time": "2020-10-30T23:22:51.983076Z"
    }
   },
   "outputs": [],
   "source": [
    "\n",
    "\n",
    "tau,eta,oav = smm.oavar(xtrace,100)\n",
    "outfile = 'test_oavar.npz'\n",
    "np.savez(outfile,tau=tau,eta=eta,oav=oav)\n",
    "\n",
    "tau,eta,oav = smm.totvar(xtrace,100)\n",
    "outfile = 'test_totvar.npz'\n",
    "np.savez(outfile,tau=tau,eta=eta,oav=oav)\n",
    "\n",
    "\n"
   ]
  },
  {
   "cell_type": "code",
   "execution_count": 31,
   "metadata": {
    "ExecuteTime": {
     "end_time": "2020-11-02T18:00:22.922027Z",
     "start_time": "2020-11-02T17:59:07.837284Z"
    }
   },
   "outputs": [
    {
     "name": "stderr",
     "output_type": "stream",
     "text": [
      "100%|██████████████████████████████████████████████████████████████████████████████| 1500/1500 [01:13<00:00, 20.33it/s]\n"
     ]
    },
    {
     "ename": "AttributeError",
     "evalue": "'PSD' object has no attribute 'calc_samples'",
     "output_type": "error",
     "traceback": [
      "\u001b[1;31m---------------------------------------------------------------------------\u001b[0m",
      "\u001b[1;31mAttributeError\u001b[0m                            Traceback (most recent call last)",
      "\u001b[1;32m<ipython-input-31-aae078a687b5>\u001b[0m in \u001b[0;36m<module>\u001b[1;34m\u001b[0m\n\u001b[0;32m      5\u001b[0m \u001b[0mpsd\u001b[0m\u001b[1;33m.\u001b[0m\u001b[0mmlefit\u001b[0m\u001b[1;33m(\u001b[0m\u001b[1;33m)\u001b[0m\u001b[1;33m\u001b[0m\u001b[1;33m\u001b[0m\u001b[0m\n\u001b[0;32m      6\u001b[0m \u001b[0mpsd\u001b[0m\u001b[1;33m.\u001b[0m\u001b[0mresults\u001b[0m\u001b[1;33m\u001b[0m\u001b[1;33m\u001b[0m\u001b[0m\n\u001b[1;32m----> 7\u001b[1;33m \u001b[0mpsd\u001b[0m\u001b[1;33m.\u001b[0m\u001b[0mmcmc\u001b[0m\u001b[1;33m(\u001b[0m\u001b[1;33m)\u001b[0m\u001b[1;33m\u001b[0m\u001b[1;33m\u001b[0m\u001b[0m\n\u001b[0m",
      "\u001b[1;32mc:\\users\\ianmo\\google drive\\lab code\\tweezepy\\tweezepy\\smmcalibration.py\u001b[0m in \u001b[0;36mmcmc\u001b[1;34m(self, walkers, steps, **kwargs)\u001b[0m\n\u001b[0;32m    125\u001b[0m         \u001b[0mself\u001b[0m\u001b[1;33m.\u001b[0m\u001b[0msampler\u001b[0m \u001b[1;33m=\u001b[0m \u001b[0memcee\u001b[0m\u001b[1;33m.\u001b[0m\u001b[0mEnsembleSampler\u001b[0m\u001b[1;33m(\u001b[0m\u001b[0mnwalkers\u001b[0m\u001b[1;33m,\u001b[0m\u001b[0mndims\u001b[0m\u001b[1;33m,\u001b[0m\u001b[0mself\u001b[0m\u001b[1;33m.\u001b[0m\u001b[0mLL\u001b[0m\u001b[1;33m,\u001b[0m\u001b[1;33m**\u001b[0m\u001b[0mkwargs\u001b[0m\u001b[1;33m)\u001b[0m\u001b[1;33m\u001b[0m\u001b[1;33m\u001b[0m\u001b[0m\n\u001b[0;32m    126\u001b[0m         \u001b[0mself\u001b[0m\u001b[1;33m.\u001b[0m\u001b[0msampler\u001b[0m\u001b[1;33m.\u001b[0m\u001b[0mrun_mcmc\u001b[0m\u001b[1;33m(\u001b[0m\u001b[0mpos\u001b[0m\u001b[1;33m,\u001b[0m \u001b[0msteps\u001b[0m\u001b[1;33m,\u001b[0m\u001b[0mprogress\u001b[0m \u001b[1;33m=\u001b[0m \u001b[1;32mTrue\u001b[0m\u001b[1;33m)\u001b[0m\u001b[1;33m\u001b[0m\u001b[1;33m\u001b[0m\u001b[0m\n\u001b[1;32m--> 127\u001b[1;33m         \u001b[0mself\u001b[0m\u001b[1;33m.\u001b[0m\u001b[0mcalc_samples\u001b[0m\u001b[1;33m(\u001b[0m\u001b[1;33m)\u001b[0m\u001b[1;33m\u001b[0m\u001b[1;33m\u001b[0m\u001b[0m\n\u001b[0m\u001b[0;32m    128\u001b[0m         \u001b[0mself\u001b[0m\u001b[1;33m.\u001b[0m\u001b[0mcalc_mc_errors\u001b[0m\u001b[1;33m(\u001b[0m\u001b[1;33m)\u001b[0m\u001b[1;33m\u001b[0m\u001b[1;33m\u001b[0m\u001b[0m\n\u001b[0;32m    129\u001b[0m \u001b[1;33m\u001b[0m\u001b[0m\n",
      "\u001b[1;31mAttributeError\u001b[0m: 'PSD' object has no attribute 'calc_samples'"
     ]
    }
   ],
   "source": [
    "npzdata = np.load('test_data.npz')\n",
    "xtrace = npzdata['data']\n",
    "\n",
    "psd = smm.PSD(xtrace,100,2)\n",
    "psd.mlefit()\n",
    "psd.results\n",
    "psd.mcmc()"
   ]
  },
  {
   "cell_type": "code",
   "execution_count": 94,
   "metadata": {
    "ExecuteTime": {
     "end_time": "2020-11-02T23:42:03.957537Z",
     "start_time": "2020-11-02T23:42:03.124106Z"
    }
   },
   "outputs": [],
   "source": [
    "# Class testing\n",
    "npzdata = np.load('test_data.npz')\n",
    "xtrace = npzdata['data']\n",
    "\n",
    "psd = smm.PSD(xtrace,100,2)\n",
    "data = psd.data\n",
    "outfile = 'test_psdclass.npz'\n",
    "np.savez(outfile,**data)\n",
    "\n",
    "psd.mlefit()\n",
    "results = psd.results\n",
    "outfile = 'test_PSD_MLEfit.npz'\n",
    "np.savez(outfile,**results)\n",
    "\n",
    "av = smm.AV(xtrace,100)\n",
    "data = av.data\n",
    "outfile = 'test_AV.npz'\n",
    "np.savez(outfile,**data)\n",
    "\n",
    "av.mlefit()\n",
    "results = av.results\n",
    "outfile = 'test_AV_MLEfit.npz'\n",
    "np.savez(outfile,**results)\n",
    "\n",
    "\n"
   ]
  },
  {
   "cell_type": "code",
   "execution_count": 151,
   "metadata": {
    "ExecuteTime": {
     "end_time": "2020-10-31T20:36:08.778121Z",
     "start_time": "2020-10-31T20:36:07.916463Z"
    }
   },
   "outputs": [
    {
     "data": {
      "text/plain": [
       "{'a': 1.0172439113316528e-05,\n",
       " 'a|err': 4.798733321862129e-07,\n",
       " 'k': 0.002071235665296333,\n",
       " 'k|err': 4.004197255276621e-05,\n",
       " 'redchi2': 1.1557317852841227,\n",
       " 'success': True}"
      ]
     },
     "execution_count": 151,
     "metadata": {},
     "output_type": "execute_result"
    },
    {
     "data": {
      "image/png": "[encoded data removed]",
      "text/plain": [
       "<Figure size 432x288 with 1 Axes>"
      ]
     },
     "metadata": {
      "needs_background": "light"
     },
     "output_type": "display_data"
    }
   ],
   "source": [
    "psd.plot()\n",
    "psd.results"
   ]
  },
  {
   "cell_type": "code",
   "execution_count": 68,
   "metadata": {
    "ExecuteTime": {
     "end_time": "2020-11-02T23:10:47.629790Z",
     "start_time": "2020-11-02T23:10:45.561514Z"
    }
   },
   "outputs": [
    {
     "name": "stderr",
     "output_type": "stream",
     "text": [
      "100%|███████████████████████████████████████████████████████████████████████████████| 200/200 [00:01<00:00, 124.63it/s]\n"
     ]
    }
   ],
   "source": [
    "import tweezepy.smmcalibration as smm\n",
    "npzdata = np.load('test_data.npz')\n",
    "xtrace = npzdata['data']\n",
    "\n",
    "av = smm.AV(xtrace,100)\n",
    "av.mlefit()\n",
    "np.random.seed(0)\n",
    "av.mcmc(walkers=10,steps =200)\n",
    "np.savez('test_AV_mcmc.npz',samples = av.samples,**av.mc_errors)"
   ]
  },
  {
   "cell_type": "code",
   "execution_count": 92,
   "metadata": {
    "ExecuteTime": {
     "end_time": "2020-11-02T23:37:08.156871Z",
     "start_time": "2020-11-02T23:37:07.953638Z"
    }
   },
   "outputs": [
    {
     "data": {
      "text/plain": [
       "{'x': array([1.000e-02, 2.000e-02, 4.000e-02, 8.000e-02, 1.600e-01, 3.200e-01,\n",
       "        6.400e-01, 1.280e+00, 2.560e+00, 5.120e+00, 1.024e+01, 2.048e+01]),\n",
       " 'shape': array([5.119e+03, 2.559e+03, 1.279e+03, 6.390e+02, 3.190e+02, 1.590e+02,\n",
       "        7.900e+01, 3.900e+01, 1.900e+01, 9.000e+00, 4.000e+00, 2.000e+00]),\n",
       " 'y': array([7.78203474e+02, 6.42936732e+02, 3.92704571e+02, 2.21057605e+02,\n",
       "        1.11211058e+02, 5.83103611e+01, 3.51996944e+01, 1.99791947e+01,\n",
       "        6.58461347e+00, 2.72250991e+00, 1.17223175e+00, 6.66961876e-01]),\n",
       " 'yerr': array([10.87678642, 12.70963549, 10.98071663,  8.7449037 ,  6.22662387,\n",
       "         4.62431243,  3.96027502,  3.19923156,  1.51061393,  0.9075033 ,\n",
       "         0.58611587,  0.47161326]),\n",
       " 'yfit': array([780.098555  , 634.07710155, 400.03122036, 221.58351374,\n",
       "        116.18680609,  59.44216551,  30.05827337,  15.11343434,\n",
       "          7.57779158,   3.7941644 ,   1.89839935,   0.94952896])}"
      ]
     },
     "execution_count": 92,
     "metadata": {},
     "output_type": "execute_result"
    }
   ],
   "source": [
    "av.data"
   ]
  },
  {
   "cell_type": "code",
   "execution_count": 90,
   "metadata": {
    "ExecuteTime": {
     "end_time": "2020-11-02T23:33:24.267082Z",
     "start_time": "2020-11-02T23:33:19.818941Z"
    }
   },
   "outputs": [
    {
     "name": "stderr",
     "output_type": "stream",
     "text": [
      "100%|████████████████████████████████████████████████████████████████████████████████| 200/200 [00:03<00:00, 58.31it/s]\n"
     ]
    },
    {
     "ename": "TypeError",
     "evalue": "Object of type ndarray is not JSON serializable",
     "output_type": "error",
     "traceback": [
      "\u001b[1;31m---------------------------------------------------------------------------\u001b[0m",
      "\u001b[1;31mTypeError\u001b[0m                                 Traceback (most recent call last)",
      "\u001b[1;32m<ipython-input-90-c149419bbac0>\u001b[0m in \u001b[0;36m<module>\u001b[1;34m\u001b[0m\n\u001b[0;32m      8\u001b[0m \u001b[0mnp\u001b[0m\u001b[1;33m.\u001b[0m\u001b[0mrandom\u001b[0m\u001b[1;33m.\u001b[0m\u001b[0mseed\u001b[0m\u001b[1;33m(\u001b[0m\u001b[1;36m0\u001b[0m\u001b[1;33m)\u001b[0m\u001b[1;33m\u001b[0m\u001b[1;33m\u001b[0m\u001b[0m\n\u001b[0;32m      9\u001b[0m \u001b[0mpsd\u001b[0m\u001b[1;33m.\u001b[0m\u001b[0mmcmc\u001b[0m\u001b[1;33m(\u001b[0m\u001b[0mwalkers\u001b[0m\u001b[1;33m=\u001b[0m\u001b[1;36m10\u001b[0m\u001b[1;33m,\u001b[0m\u001b[0msteps\u001b[0m \u001b[1;33m=\u001b[0m\u001b[1;36m200\u001b[0m\u001b[1;33m)\u001b[0m\u001b[1;33m\u001b[0m\u001b[1;33m\u001b[0m\u001b[0m\n\u001b[1;32m---> 10\u001b[1;33m \u001b[0mjson\u001b[0m\u001b[1;33m.\u001b[0m\u001b[0mdump\u001b[0m\u001b[1;33m(\u001b[0m\u001b[0mpsd\u001b[0m\u001b[1;33m.\u001b[0m\u001b[0msamples\u001b[0m\u001b[1;33m,\u001b[0m\u001b[1;34m'test_PSD_samples.txt'\u001b[0m\u001b[1;33m)\u001b[0m\u001b[1;33m\u001b[0m\u001b[1;33m\u001b[0m\u001b[0m\n\u001b[0m\u001b[0;32m     11\u001b[0m \u001b[1;31m#np.savez('test_PSD_mcmc.npz',samples = psd.samples,**psd.mc_errors)\u001b[0m\u001b[1;33m\u001b[0m\u001b[1;33m\u001b[0m\u001b[1;33m\u001b[0m\u001b[0m\n",
      "\u001b[1;32m~\\Anaconda3\\lib\\json\\__init__.py\u001b[0m in \u001b[0;36mdump\u001b[1;34m(obj, fp, skipkeys, ensure_ascii, check_circular, allow_nan, cls, indent, separators, default, sort_keys, **kw)\u001b[0m\n\u001b[0;32m    177\u001b[0m     \u001b[1;31m# could accelerate with writelines in some versions of Python, at\u001b[0m\u001b[1;33m\u001b[0m\u001b[1;33m\u001b[0m\u001b[1;33m\u001b[0m\u001b[0m\n\u001b[0;32m    178\u001b[0m     \u001b[1;31m# a debuggability cost\u001b[0m\u001b[1;33m\u001b[0m\u001b[1;33m\u001b[0m\u001b[1;33m\u001b[0m\u001b[0m\n\u001b[1;32m--> 179\u001b[1;33m     \u001b[1;32mfor\u001b[0m \u001b[0mchunk\u001b[0m \u001b[1;32min\u001b[0m \u001b[0miterable\u001b[0m\u001b[1;33m:\u001b[0m\u001b[1;33m\u001b[0m\u001b[1;33m\u001b[0m\u001b[0m\n\u001b[0m\u001b[0;32m    180\u001b[0m         \u001b[0mfp\u001b[0m\u001b[1;33m.\u001b[0m\u001b[0mwrite\u001b[0m\u001b[1;33m(\u001b[0m\u001b[0mchunk\u001b[0m\u001b[1;33m)\u001b[0m\u001b[1;33m\u001b[0m\u001b[1;33m\u001b[0m\u001b[0m\n\u001b[0;32m    181\u001b[0m \u001b[1;33m\u001b[0m\u001b[0m\n",
      "\u001b[1;32m~\\Anaconda3\\lib\\json\\encoder.py\u001b[0m in \u001b[0;36m_iterencode\u001b[1;34m(o, _current_indent_level)\u001b[0m\n\u001b[0;32m    436\u001b[0m                     \u001b[1;32mraise\u001b[0m \u001b[0mValueError\u001b[0m\u001b[1;33m(\u001b[0m\u001b[1;34m\"Circular reference detected\"\u001b[0m\u001b[1;33m)\u001b[0m\u001b[1;33m\u001b[0m\u001b[1;33m\u001b[0m\u001b[0m\n\u001b[0;32m    437\u001b[0m                 \u001b[0mmarkers\u001b[0m\u001b[1;33m[\u001b[0m\u001b[0mmarkerid\u001b[0m\u001b[1;33m]\u001b[0m \u001b[1;33m=\u001b[0m \u001b[0mo\u001b[0m\u001b[1;33m\u001b[0m\u001b[1;33m\u001b[0m\u001b[0m\n\u001b[1;32m--> 438\u001b[1;33m             \u001b[0mo\u001b[0m \u001b[1;33m=\u001b[0m \u001b[0m_default\u001b[0m\u001b[1;33m(\u001b[0m\u001b[0mo\u001b[0m\u001b[1;33m)\u001b[0m\u001b[1;33m\u001b[0m\u001b[1;33m\u001b[0m\u001b[0m\n\u001b[0m\u001b[0;32m    439\u001b[0m             \u001b[1;32myield\u001b[0m \u001b[1;32mfrom\u001b[0m \u001b[0m_iterencode\u001b[0m\u001b[1;33m(\u001b[0m\u001b[0mo\u001b[0m\u001b[1;33m,\u001b[0m \u001b[0m_current_indent_level\u001b[0m\u001b[1;33m)\u001b[0m\u001b[1;33m\u001b[0m\u001b[1;33m\u001b[0m\u001b[0m\n\u001b[0;32m    440\u001b[0m             \u001b[1;32mif\u001b[0m \u001b[0mmarkers\u001b[0m \u001b[1;32mis\u001b[0m \u001b[1;32mnot\u001b[0m \u001b[1;32mNone\u001b[0m\u001b[1;33m:\u001b[0m\u001b[1;33m\u001b[0m\u001b[1;33m\u001b[0m\u001b[0m\n",
      "\u001b[1;32m~\\Anaconda3\\lib\\json\\encoder.py\u001b[0m in \u001b[0;36mdefault\u001b[1;34m(self, o)\u001b[0m\n\u001b[0;32m    177\u001b[0m \u001b[1;33m\u001b[0m\u001b[0m\n\u001b[0;32m    178\u001b[0m         \"\"\"\n\u001b[1;32m--> 179\u001b[1;33m         raise TypeError(f'Object of type {o.__class__.__name__} '\n\u001b[0m\u001b[0;32m    180\u001b[0m                         f'is not JSON serializable')\n\u001b[0;32m    181\u001b[0m \u001b[1;33m\u001b[0m\u001b[0m\n",
      "\u001b[1;31mTypeError\u001b[0m: Object of type ndarray is not JSON serializable"
     ]
    }
   ],
   "source": [
    "import json\n",
    "import tweezepy.smmcalibration as smm\n",
    "npzdata = np.load('test_data.npz')\n",
    "xtrace = npzdata['data']\n",
    "\n",
    "psd = smm.PSD(xtrace,100,2)\n",
    "psd.mlefit()\n",
    "np.random.seed(0)\n",
    "psd.mcmc(walkers=10,steps =200)\n",
    "json.dump(psd.samples,'test_PSD_samples.txt')\n",
    "#np.savez('test_PSD_mcmc.npz',samples = psd.samples,**psd.mc_errors)"
   ]
  },
  {
   "cell_type": "code",
   "execution_count": 91,
   "metadata": {
    "ExecuteTime": {
     "end_time": "2020-11-02T23:33:34.293102Z",
     "start_time": "2020-11-02T23:33:34.065716Z"
    }
   },
   "outputs": [
    {
     "data": {
      "text/plain": [
       "array([[1.03379117e-05, 2.06382813e-03],\n",
       "       [9.94623339e-06, 2.07932671e-03],\n",
       "       [9.85194120e-06, 2.05612253e-03],\n",
       "       [1.00770803e-05, 2.08561141e-03],\n",
       "       [1.08812942e-05, 2.10252516e-03],\n",
       "       [1.01935818e-05, 2.03733472e-03],\n",
       "       [9.96341131e-06, 2.06372776e-03],\n",
       "       [1.00193334e-05, 2.06799772e-03],\n",
       "       [1.05909529e-05, 2.10565629e-03],\n",
       "       [9.81074211e-06, 2.06382437e-03],\n",
       "       [1.12279981e-05, 2.10041661e-03],\n",
       "       [1.00749088e-05, 2.08765013e-03],\n",
       "       [1.01113826e-05, 2.06970200e-03],\n",
       "       [1.02738074e-05, 2.08509432e-03],\n",
       "       [1.04709969e-05, 2.08505977e-03],\n",
       "       [1.03725540e-05, 2.06702833e-03],\n",
       "       [1.03821044e-05, 2.07363212e-03],\n",
       "       [9.68071739e-06, 2.05982039e-03],\n",
       "       [1.01736900e-05, 2.06766790e-03],\n",
       "       [9.82378495e-06, 2.06431009e-03],\n",
       "       [1.02052754e-05, 2.07191903e-03],\n",
       "       [1.01939058e-05, 2.10275116e-03],\n",
       "       [1.02547450e-05, 2.05980035e-03],\n",
       "       [1.00926136e-05, 2.09453807e-03],\n",
       "       [1.03507895e-05, 2.07408836e-03],\n",
       "       [1.02756760e-05, 2.07120614e-03],\n",
       "       [9.67657302e-06, 2.04872625e-03],\n",
       "       [9.65098446e-06, 2.05803399e-03],\n",
       "       [1.01207294e-05, 2.07692935e-03],\n",
       "       [9.84139563e-06, 2.06215883e-03],\n",
       "       [1.01265262e-05, 2.07785878e-03],\n",
       "       [1.02705953e-05, 2.08005744e-03],\n",
       "       [9.84183552e-06, 2.05718128e-03],\n",
       "       [1.06191360e-05, 2.11810777e-03],\n",
       "       [1.03593884e-05, 2.06709307e-03],\n",
       "       [1.05900077e-05, 2.05406042e-03],\n",
       "       [9.47855963e-06, 2.04665070e-03],\n",
       "       [9.96975997e-06, 2.06213783e-03],\n",
       "       [9.81037398e-06, 2.05766528e-03],\n",
       "       [9.73111945e-06, 2.04533040e-03],\n",
       "       [1.00846697e-05, 2.09583535e-03],\n",
       "       [1.08982921e-05, 2.10657654e-03],\n",
       "       [1.01180075e-05, 2.08191256e-03],\n",
       "       [1.02860491e-05, 2.10229420e-03],\n",
       "       [1.00583422e-05, 2.05997469e-03],\n",
       "       [1.03539565e-05, 2.08881104e-03],\n",
       "       [9.53439406e-06, 2.04588171e-03],\n",
       "       [1.08809901e-05, 2.10649267e-03],\n",
       "       [1.02907743e-05, 2.06384814e-03],\n",
       "       [1.01894085e-05, 2.04238004e-03],\n",
       "       [1.03145773e-05, 2.09651275e-03],\n",
       "       [1.09022634e-05, 2.09344930e-03],\n",
       "       [1.00520601e-05, 2.09228637e-03],\n",
       "       [1.00780712e-05, 2.07326798e-03],\n",
       "       [9.85797228e-06, 2.04177750e-03],\n",
       "       [1.06021001e-05, 2.11737526e-03],\n",
       "       [9.81002373e-06, 2.03383236e-03],\n",
       "       [1.03914229e-05, 2.08751448e-03],\n",
       "       [1.02367489e-05, 2.06394860e-03],\n",
       "       [1.02238994e-05, 2.05705740e-03],\n",
       "       [1.01041627e-05, 2.07461133e-03],\n",
       "       [1.02583813e-05, 2.06440464e-03],\n",
       "       [1.02054580e-05, 2.10766939e-03],\n",
       "       [1.03142518e-05, 2.08201987e-03],\n",
       "       [9.73280936e-06, 2.03032635e-03],\n",
       "       [1.02872920e-05, 2.09203972e-03],\n",
       "       [9.87947358e-06, 2.05567731e-03],\n",
       "       [1.01802776e-05, 2.10227801e-03],\n",
       "       [1.01824298e-05, 2.05971780e-03],\n",
       "       [1.04990071e-05, 2.07656500e-03],\n",
       "       [1.02862874e-05, 2.10021429e-03],\n",
       "       [1.01303922e-05, 2.05649191e-03],\n",
       "       [1.02831595e-05, 2.09885547e-03],\n",
       "       [1.05337769e-05, 2.09752044e-03],\n",
       "       [9.96289790e-06, 2.05120335e-03],\n",
       "       [1.03042177e-05, 2.08462218e-03],\n",
       "       [1.02520441e-05, 2.08619413e-03],\n",
       "       [1.06285622e-05, 2.10799464e-03],\n",
       "       [1.01619804e-05, 2.06955624e-03],\n",
       "       [1.05346187e-05, 2.05514093e-03],\n",
       "       [1.01559733e-05, 2.08315785e-03],\n",
       "       [1.02514011e-05, 2.05595962e-03],\n",
       "       [1.03381193e-05, 2.11078097e-03],\n",
       "       [9.91256785e-06, 2.04940098e-03],\n",
       "       [1.01052590e-05, 2.06468542e-03],\n",
       "       [9.91771026e-06, 2.06375830e-03],\n",
       "       [1.01615714e-05, 2.07325107e-03],\n",
       "       [1.09498267e-05, 2.11413856e-03],\n",
       "       [1.01239336e-05, 2.07376061e-03],\n",
       "       [1.06242564e-05, 2.08157487e-03],\n",
       "       [1.04349619e-05, 2.10526044e-03],\n",
       "       [1.02651526e-05, 2.05437468e-03],\n",
       "       [1.04812508e-05, 2.11509212e-03],\n",
       "       [9.83226928e-06, 2.05114677e-03],\n",
       "       [9.86726679e-06, 2.03208732e-03],\n",
       "       [1.00879225e-05, 2.06835900e-03],\n",
       "       [1.02777137e-05, 2.07263153e-03],\n",
       "       [1.06245988e-05, 2.09207645e-03],\n",
       "       [1.04037158e-05, 2.11180804e-03],\n",
       "       [1.02741023e-05, 2.06937039e-03]])"
      ]
     },
     "execution_count": 91,
     "metadata": {},
     "output_type": "execute_result"
    }
   ],
   "source": [
    "psd.samples"
   ]
  },
  {
   "cell_type": "code",
   "execution_count": 54,
   "metadata": {
    "ExecuteTime": {
     "end_time": "2020-11-02T20:04:57.818416Z",
     "start_time": "2020-11-02T20:04:57.550166Z"
    }
   },
   "outputs": [],
   "source": [
    "first = {'samples':psd.samples,**psd.mc_errors}"
   ]
  },
  {
   "cell_type": "code",
   "execution_count": 70,
   "metadata": {
    "ExecuteTime": {
     "end_time": "2020-11-02T23:15:05.713334Z",
     "start_time": "2020-11-02T23:15:05.436023Z"
    }
   },
   "outputs": [],
   "source": [
    "tested = {'samples':av.samples,\n",
    "          'a':av.mc_errors['a'],\n",
    "          'k':av.mc_errors['k']}"
   ]
  },
  {
   "cell_type": "code",
   "execution_count": 83,
   "metadata": {
    "ExecuteTime": {
     "end_time": "2020-11-02T23:23:41.510591Z",
     "start_time": "2020-11-02T23:23:41.279055Z"
    }
   },
   "outputs": [
    {
     "data": {
      "text/plain": [
       "ItemsView(<numpy.lib.npyio.NpzFile object at 0x000002B06A90C6C8>)"
      ]
     },
     "execution_count": 83,
     "metadata": {},
     "output_type": "execute_result"
    }
   ],
   "source": [
    "load = np.load('test_AV_mcmc.npz')\n",
    "load.items()"
   ]
  },
  {
   "cell_type": "code",
   "execution_count": 88,
   "metadata": {
    "ExecuteTime": {
     "end_time": "2020-11-02T23:24:32.530499Z",
     "start_time": "2020-11-02T23:24:32.308092Z"
    }
   },
   "outputs": [
    {
     "data": {
      "text/plain": [
       "{'samples': array([[9.27946976e-06, 2.00181551e-03],\n",
       "        [9.89027787e-06, 1.99884887e-03],\n",
       "        [9.47350114e-06, 1.97766746e-03],\n",
       "        [9.59645785e-06, 2.01220669e-03],\n",
       "        [1.04309353e-05, 2.07164440e-03],\n",
       "        [9.16407470e-06, 1.97734045e-03],\n",
       "        [9.51886455e-06, 1.99650656e-03],\n",
       "        [9.89735908e-06, 2.01854224e-03],\n",
       "        [9.86521829e-06, 2.03966161e-03],\n",
       "        [9.62499410e-06, 2.01743757e-03],\n",
       "        [9.40366850e-06, 2.04444352e-03],\n",
       "        [9.83211108e-06, 2.00432096e-03],\n",
       "        [9.20142730e-06, 1.98098545e-03],\n",
       "        [9.67391320e-06, 2.02976893e-03],\n",
       "        [9.99634605e-06, 2.03887982e-03],\n",
       "        [9.88587246e-06, 2.01517592e-03],\n",
       "        [9.19974165e-06, 1.98765726e-03],\n",
       "        [9.77123978e-06, 1.99226516e-03],\n",
       "        [9.75909001e-06, 2.01912268e-03],\n",
       "        [1.03390259e-05, 2.05104317e-03],\n",
       "        [9.61933259e-06, 2.01744033e-03],\n",
       "        [9.81101776e-06, 2.01391328e-03],\n",
       "        [9.02217034e-06, 1.96183024e-03],\n",
       "        [9.00408895e-06, 1.95229436e-03],\n",
       "        [1.00490592e-05, 2.03479294e-03],\n",
       "        [9.38803314e-06, 1.99847640e-03],\n",
       "        [8.88201918e-06, 1.96179651e-03],\n",
       "        [9.36881081e-06, 1.97083478e-03],\n",
       "        [9.80788161e-06, 2.02344556e-03],\n",
       "        [9.55564464e-06, 2.00678162e-03],\n",
       "        [9.96718550e-06, 2.04921197e-03],\n",
       "        [9.66015692e-06, 1.99475144e-03],\n",
       "        [8.66772975e-06, 1.92525195e-03],\n",
       "        [9.73891155e-06, 1.99784492e-03],\n",
       "        [9.67565332e-06, 2.00759347e-03],\n",
       "        [8.74668870e-06, 1.95775156e-03],\n",
       "        [8.76194922e-06, 1.95614282e-03],\n",
       "        [9.33232832e-06, 1.97487109e-03],\n",
       "        [9.26937488e-06, 1.99997135e-03],\n",
       "        [8.88576534e-06, 1.94813695e-03],\n",
       "        [9.06970382e-06, 2.01025233e-03],\n",
       "        [1.05734622e-05, 2.05785429e-03],\n",
       "        [8.85155749e-06, 1.93901671e-03],\n",
       "        [9.10790967e-06, 1.95446497e-03],\n",
       "        [9.18119616e-06, 1.99077552e-03],\n",
       "        [9.01316562e-06, 1.97623273e-03],\n",
       "        [8.82174770e-06, 1.97516716e-03],\n",
       "        [8.83497355e-06, 1.93729706e-03],\n",
       "        [9.99344262e-06, 2.03028754e-03],\n",
       "        [8.93437488e-06, 1.93560702e-03],\n",
       "        [9.00774904e-06, 1.98514395e-03],\n",
       "        [1.00427757e-05, 2.01132673e-03],\n",
       "        [9.36308744e-06, 1.96328313e-03],\n",
       "        [9.30872796e-06, 1.98723099e-03],\n",
       "        [9.46487527e-06, 2.00778476e-03],\n",
       "        [8.95235214e-06, 1.98582348e-03],\n",
       "        [9.63597681e-06, 2.02013483e-03],\n",
       "        [9.26663661e-06, 1.98115949e-03],\n",
       "        [9.55680710e-06, 2.00743467e-03],\n",
       "        [9.09854767e-06, 1.96621358e-03],\n",
       "        [8.97572464e-06, 1.97134786e-03],\n",
       "        [9.72040438e-06, 2.00906581e-03],\n",
       "        [9.40620976e-06, 1.98052382e-03],\n",
       "        [9.60449047e-06, 1.99509849e-03],\n",
       "        [9.46571616e-06, 2.01218313e-03],\n",
       "        [9.15619579e-06, 1.98295486e-03],\n",
       "        [9.33170025e-06, 2.00473298e-03],\n",
       "        [9.33563222e-06, 1.99739731e-03],\n",
       "        [9.78105075e-06, 2.02042355e-03],\n",
       "        [8.74814235e-06, 1.95675807e-03],\n",
       "        [9.20706708e-06, 1.97253245e-03],\n",
       "        [9.28074802e-06, 1.98866459e-03],\n",
       "        [8.95219607e-06, 1.96572422e-03],\n",
       "        [9.35643550e-06, 1.95968689e-03],\n",
       "        [9.68869281e-06, 2.01979374e-03],\n",
       "        [9.54314954e-06, 1.99642726e-03],\n",
       "        [9.44538507e-06, 1.98279285e-03],\n",
       "        [9.06167101e-06, 1.97659355e-03],\n",
       "        [9.40909087e-06, 1.99320071e-03],\n",
       "        [8.85520023e-06, 1.96473003e-03],\n",
       "        [9.19412456e-06, 1.96525336e-03],\n",
       "        [9.26651493e-06, 1.99186291e-03],\n",
       "        [8.92565100e-06, 1.94565475e-03],\n",
       "        [9.41217870e-06, 1.97200024e-03],\n",
       "        [9.61331898e-06, 2.00354621e-03],\n",
       "        [9.78015357e-06, 2.00680343e-03],\n",
       "        [9.45567827e-06, 1.99399393e-03],\n",
       "        [8.74760542e-06, 1.96887173e-03],\n",
       "        [9.72158598e-06, 2.01988909e-03],\n",
       "        [8.76975260e-06, 1.95039978e-03],\n",
       "        [9.16660200e-06, 1.98230133e-03],\n",
       "        [9.66673440e-06, 2.01383558e-03],\n",
       "        [9.43651300e-06, 1.98142347e-03],\n",
       "        [9.85067206e-06, 2.00542772e-03],\n",
       "        [9.85726537e-06, 2.02468030e-03],\n",
       "        [9.25334646e-06, 1.98382943e-03],\n",
       "        [9.26803140e-06, 1.97529238e-03],\n",
       "        [9.02806429e-06, 1.98043924e-03],\n",
       "        [9.53812388e-06, 2.01156066e-03],\n",
       "        [9.27392492e-06, 1.97668323e-03]]),\n",
       " 'a': array([5.99436736e-07, 5.83409151e-07]),\n",
       " 'k': array([3.99294842e-05, 3.74725805e-05])}"
      ]
     },
     "execution_count": 88,
     "metadata": {},
     "output_type": "execute_result"
    }
   ],
   "source": [
    "dict(load)"
   ]
  },
  {
   "cell_type": "code",
   "execution_count": 81,
   "metadata": {
    "ExecuteTime": {
     "end_time": "2020-11-02T23:16:40.987224Z",
     "start_time": "2020-11-02T23:16:40.707903Z"
    }
   },
   "outputs": [
    {
     "ename": "ValueError",
     "evalue": "The truth value of an array with more than one element is ambiguous. Use a.any() or a.all()",
     "output_type": "error",
     "traceback": [
      "\u001b[1;31m---------------------------------------------------------------------------\u001b[0m",
      "\u001b[1;31mValueError\u001b[0m                                Traceback (most recent call last)",
      "\u001b[1;32m<ipython-input-81-80c08f7f9e9d>\u001b[0m in \u001b[0;36m<module>\u001b[1;34m\u001b[0m\n\u001b[1;32m----> 1\u001b[1;33m \u001b[0mtested\u001b[0m \u001b[1;33m==\u001b[0m \u001b[0mload\u001b[0m\u001b[1;33m\u001b[0m\u001b[1;33m\u001b[0m\u001b[0m\n\u001b[0m",
      "\u001b[1;31mValueError\u001b[0m: The truth value of an array with more than one element is ambiguous. Use a.any() or a.all()"
     ]
    }
   ],
   "source": [
    "tested == load"
   ]
  },
  {
   "cell_type": "code",
   "execution_count": 38,
   "metadata": {
    "ExecuteTime": {
     "end_time": "2020-11-02T19:53:55.979229Z",
     "start_time": "2020-11-02T19:53:53.624525Z"
    }
   },
   "outputs": [
    {
     "name": "stderr",
     "output_type": "stream",
     "text": [
      "100%|███████████████████████████████████████████████████████████████████████████████| 200/200 [00:01<00:00, 104.01it/s]\n"
     ]
    }
   ],
   "source": [
    "psd.mcmc(walkers=10,steps=200)"
   ]
  },
  {
   "cell_type": "code",
   "execution_count": 39,
   "metadata": {
    "ExecuteTime": {
     "end_time": "2020-11-02T19:54:24.376674Z",
     "start_time": "2020-11-02T19:54:24.135527Z"
    }
   },
   "outputs": [
    {
     "data": {
      "text/plain": [
       "{'a': array([4.51758786e-07, 4.14191065e-07]),\n",
       " 'k': array([3.47375996e-05, 3.83579831e-05])}"
      ]
     },
     "execution_count": 39,
     "metadata": {},
     "output_type": "execute_result"
    }
   ],
   "source": [
    "psd.mc_errors"
   ]
  },
  {
   "cell_type": "code",
   "execution_count": 22,
   "metadata": {
    "ExecuteTime": {
     "end_time": "2020-11-01T21:28:40.191211Z",
     "start_time": "2020-11-01T21:27:23.354819Z"
    }
   },
   "outputs": [
    {
     "name": "stderr",
     "output_type": "stream",
     "text": [
      "100%|██████████████████████████████████████████████████████████████████████████████| 1500/1500 [01:16<00:00, 19.73it/s]\n"
     ]
    }
   ],
   "source": [
    "psd = smm.PSD(xtrace,100,2)\n",
    "psd.mlefit()\n",
    "np.random.seed(0)\n",
    "psd.mcmc()"
   ]
  },
  {
   "cell_type": "code",
   "execution_count": 24,
   "metadata": {
    "ExecuteTime": {
     "end_time": "2020-11-01T21:29:22.351269Z",
     "start_time": "2020-11-01T21:29:21.967313Z"
    }
   },
   "outputs": [],
   "source": [
    "psd.mcmc?"
   ]
  },
  {
   "cell_type": "code",
   "execution_count": 15,
   "metadata": {
    "ExecuteTime": {
     "end_time": "2020-11-01T17:34:31.366648Z",
     "start_time": "2020-11-01T17:34:31.283839Z"
    }
   },
   "outputs": [
    {
     "ename": "AttributeError",
     "evalue": "can't set attribute",
     "output_type": "error",
     "traceback": [
      "\u001b[1;31m---------------------------------------------------------------------------\u001b[0m",
      "\u001b[1;31mAttributeError\u001b[0m                            Traceback (most recent call last)",
      "\u001b[1;32m<ipython-input-15-91d06735faa6>\u001b[0m in \u001b[0;36m<module>\u001b[1;34m\u001b[0m\n\u001b[1;32m----> 1\u001b[1;33m \u001b[0mpsd\u001b[0m\u001b[1;33m.\u001b[0m\u001b[0mparams\u001b[0m \u001b[1;33m=\u001b[0m \u001b[1;33m[\u001b[0m\u001b[1;36m1\u001b[0m\u001b[1;33m,\u001b[0m\u001b[1;36m1\u001b[0m\u001b[1;33m]\u001b[0m\u001b[1;33m\u001b[0m\u001b[1;33m\u001b[0m\u001b[0m\n\u001b[0m",
      "\u001b[1;31mAttributeError\u001b[0m: can't set attribute"
     ]
    }
   ],
   "source": [
    "psd.params = [1,1]"
   ]
  },
  {
   "cell_type": "code",
   "execution_count": 95,
   "metadata": {
    "ExecuteTime": {
     "end_time": "2020-10-31T19:26:38.229394Z",
     "start_time": "2020-10-31T19:26:38.216454Z"
    }
   },
   "outputs": [
    {
     "ename": "AttributeError",
     "evalue": "type object 'AVTestCase' has no attribute 'test'",
     "output_type": "error",
     "traceback": [
      "\u001b[1;31m---------------------------------------------------------------------------\u001b[0m",
      "\u001b[1;31mAttributeError\u001b[0m                            Traceback (most recent call last)",
      "\u001b[1;32m<ipython-input-95-ece9068fcd10>\u001b[0m in \u001b[0;36m<module>\u001b[1;34m\u001b[0m\n\u001b[0;32m     11\u001b[0m         \u001b[0mav\u001b[0m \u001b[1;33m=\u001b[0m \u001b[0mAV\u001b[0m\u001b[1;33m.\u001b[0m\u001b[0mtest\u001b[0m\u001b[1;33m\u001b[0m\u001b[1;33m\u001b[0m\u001b[0m\n\u001b[0;32m     12\u001b[0m \u001b[0mavtest\u001b[0m \u001b[1;33m=\u001b[0m \u001b[0mAVTestCase\u001b[0m\u001b[1;33m(\u001b[0m\u001b[1;33m)\u001b[0m\u001b[1;33m\u001b[0m\u001b[1;33m\u001b[0m\u001b[0m\n\u001b[1;32m---> 13\u001b[1;33m \u001b[0mavtest\u001b[0m\u001b[1;33m.\u001b[0m\u001b[0mtest_MLEfit\u001b[0m\u001b[1;33m(\u001b[0m\u001b[1;33m)\u001b[0m\u001b[1;33m\u001b[0m\u001b[1;33m\u001b[0m\u001b[0m\n\u001b[0m\u001b[0;32m     14\u001b[0m \u001b[1;31m#avtest.setUpClass\u001b[0m\u001b[1;33m\u001b[0m\u001b[1;33m\u001b[0m\u001b[1;33m\u001b[0m\u001b[0m\n",
      "\u001b[1;32m<ipython-input-95-ece9068fcd10>\u001b[0m in \u001b[0;36mtest_MLEfit\u001b[1;34m(AV)\u001b[0m\n\u001b[0;32m      9\u001b[0m     \u001b[1;33m@\u001b[0m\u001b[0mclassmethod\u001b[0m\u001b[1;33m\u001b[0m\u001b[1;33m\u001b[0m\u001b[0m\n\u001b[0;32m     10\u001b[0m     \u001b[1;32mdef\u001b[0m \u001b[0mtest_MLEfit\u001b[0m\u001b[1;33m(\u001b[0m\u001b[0mAV\u001b[0m\u001b[1;33m)\u001b[0m\u001b[1;33m:\u001b[0m\u001b[1;33m\u001b[0m\u001b[1;33m\u001b[0m\u001b[0m\n\u001b[1;32m---> 11\u001b[1;33m         \u001b[0mav\u001b[0m \u001b[1;33m=\u001b[0m \u001b[0mAV\u001b[0m\u001b[1;33m.\u001b[0m\u001b[0mtest\u001b[0m\u001b[1;33m\u001b[0m\u001b[1;33m\u001b[0m\u001b[0m\n\u001b[0m\u001b[0;32m     12\u001b[0m \u001b[0mavtest\u001b[0m \u001b[1;33m=\u001b[0m \u001b[0mAVTestCase\u001b[0m\u001b[1;33m(\u001b[0m\u001b[1;33m)\u001b[0m\u001b[1;33m\u001b[0m\u001b[1;33m\u001b[0m\u001b[0m\n\u001b[0;32m     13\u001b[0m \u001b[0mavtest\u001b[0m\u001b[1;33m.\u001b[0m\u001b[0mtest_MLEfit\u001b[0m\u001b[1;33m(\u001b[0m\u001b[1;33m)\u001b[0m\u001b[1;33m\u001b[0m\u001b[1;33m\u001b[0m\u001b[0m\n",
      "\u001b[1;31mAttributeError\u001b[0m: type object 'AVTestCase' has no attribute 'test'"
     ]
    }
   ],
   "source": [
    "import unittest\n",
    "class AVTestCase(unittest.TestCase):\n",
    "    @classmethod\n",
    "    def setUpClass(AV):\n",
    "        npzdata = np.load('test_data.npz')\n",
    "        xtrace = npzdata['data']\n",
    "        AV.test = smm.AV(xtrace,100)\n",
    "        #self.xtrace = xtrace\n",
    "    @classmethod\n",
    "    def test_MLEfit(AV):\n",
    "        av = AV.test\n",
    "avtest = AVTestCase()\n",
    "avtest.test_MLEfit()\n",
    "#avtest.setUpClass"
   ]
  },
  {
   "cell_type": "code",
   "execution_count": 106,
   "metadata": {
    "ExecuteTime": {
     "end_time": "2020-10-31T19:43:27.151436Z",
     "start_time": "2020-10-31T19:43:26.626882Z"
    }
   },
   "outputs": [
    {
     "data": {
      "text/plain": [
       "{'a': 9.44356423639137e-06,\n",
       " 'a|err': 5.632107673023016e-07,\n",
       " 'k': 0.001995172820444941,\n",
       " 'k|err': 4.227637164710647e-05,\n",
       " 'redchi2': 1.0345249458753432,\n",
       " 'success': True}"
      ]
     },
     "execution_count": 106,
     "metadata": {},
     "output_type": "execute_result"
    }
   ],
   "source": [
    "npzdata = np.load('test_data.npz')\n",
    "xtrace = npzdata['data']\n",
    "av = smm.AV(xtrace,100)\n",
    "results"
   ]
  },
  {
   "cell_type": "code",
   "execution_count": 114,
   "metadata": {
    "ExecuteTime": {
     "end_time": "2020-10-31T19:46:35.951914Z",
     "start_time": "2020-10-31T19:46:35.858130Z"
    }
   },
   "outputs": [
    {
     "data": {
      "text/plain": [
       "dict_values([9.44356423639137e-06, 5.632107673023016e-07, 0.001995172820444941, 4.227637164710647e-05, 1.0345249458753432, True])"
      ]
     },
     "execution_count": 114,
     "metadata": {},
     "output_type": "execute_result"
    }
   ],
   "source": [
    "results.values()"
   ]
  },
  {
   "cell_type": "code",
   "execution_count": 117,
   "metadata": {
    "ExecuteTime": {
     "end_time": "2020-10-31T19:47:36.150617Z",
     "start_time": "2020-10-31T19:47:36.052845Z"
    }
   },
   "outputs": [],
   "source": []
  },
  {
   "cell_type": "code",
   "execution_count": 118,
   "metadata": {
    "ExecuteTime": {
     "end_time": "2020-10-31T19:47:36.730062Z",
     "start_time": "2020-10-31T19:47:36.636315Z"
    }
   },
   "outputs": [
    {
     "data": {
      "text/plain": [
       "['a', 'a|err', 'k', 'k|err', 'redchi2', 'success']"
      ]
     },
     "execution_count": 118,
     "metadata": {},
     "output_type": "execute_result"
    }
   ],
   "source": [
    "test = np.load('test_AV_MLEfit.npz')\n",
    "test.files"
   ]
  },
  {
   "cell_type": "code",
   "execution_count": 120,
   "metadata": {
    "ExecuteTime": {
     "end_time": "2020-10-31T19:48:00.423280Z",
     "start_time": "2020-10-31T19:48:00.328519Z"
    }
   },
   "outputs": [
    {
     "data": {
      "text/plain": [
       "True"
      ]
     },
     "execution_count": 120,
     "metadata": {},
     "output_type": "execute_result"
    }
   ],
   "source": [
    "test['a'] == results['a']"
   ]
  },
  {
   "cell_type": "code",
   "execution_count": 129,
   "metadata": {
    "ExecuteTime": {
     "end_time": "2020-10-31T19:50:43.453769Z",
     "start_time": "2020-10-31T19:50:43.354038Z"
    }
   },
   "outputs": [
    {
     "data": {
      "text/plain": [
       "True"
      ]
     },
     "execution_count": 129,
     "metadata": {},
     "output_type": "execute_result"
    }
   ],
   "source": [
    "dict(test.items()) == results"
   ]
  },
  {
   "cell_type": "code",
   "execution_count": null,
   "metadata": {},
   "outputs": [],
   "source": []
  }
 ],
 "metadata": {
  "kernelspec": {
   "display_name": "Python 3",
   "language": "python",
   "name": "python3"
  },
  "language_info": {
   "codemirror_mode": {
    "name": "ipython",
    "version": 3
   },
   "file_extension": ".py",
   "mimetype": "text/x-python",
   "name": "python",
   "nbconvert_exporter": "python",
   "pygments_lexer": "ipython3",
   "version": "3.7.7"
  },
  "toc": {
   "base_numbering": 1,
   "nav_menu": {},
   "number_sections": true,
   "sideBar": true,
   "skip_h1_title": false,
   "title_cell": "Table of Contents",
   "title_sidebar": "Contents",
   "toc_cell": false,
   "toc_position": {},
   "toc_section_display": true,
   "toc_window_display": false
  },
  "varInspector": {
   "cols": {
    "lenName": 16,
    "lenType": 16,
    "lenVar": 40
   },
   "kernels_config": {
    "python": {
     "delete_cmd_postfix": "",
     "delete_cmd_prefix": "del ",
     "library": "var_list.py",
     "varRefreshCmd": "print(var_dic_list())"
    },
    "r": {
     "delete_cmd_postfix": ") ",
     "delete_cmd_prefix": "rm(",
     "library": "var_list.r",
     "varRefreshCmd": "cat(var_dic_list()) "
    }
   },
   "types_to_exclude": [
    "module",
    "function",
    "builtin_function_or_method",
    "instance",
    "_Feature"
   ],
   "window_display": false
  }
 },
 "nbformat": 4,
 "nbformat_minor": 4
}
