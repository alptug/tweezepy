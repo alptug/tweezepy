{
 "cells": [
  {
   "cell_type": "markdown",
   "metadata": {},
   "source": [
    "# Quickstart"
   ]
  },
  {
   "cell_type": "markdown",
   "metadata": {},
   "source": [
    "\n",
    "The easiest way to get started with using **Tweezepy** is to use it for a project. Here's an annotated fully-functional example that demonstrates standard usage."
   ]
  },
  {
   "cell_type": "markdown",
   "metadata": {},
   "source": [
    "## Load in data\n",
    "\n",
    "Standard usage of **Tweezepy** takes in a 1D array of bead positions in nm, trace, collected at a known sampling frequency, fsample. There are many ways to load data into Python depending on its format. [Here](https://cmdlinetips.com/2018/01/how-to-read-a-numerical-data-file-in-python-with-numpy/) is a quick tutorial for how to load in data from csv files."
   ]
  },
  {
   "cell_type": "markdown",
   "metadata": {},
   "source": [
    "For this tutorial, we will use an example trajectory that is included with **Tweezepy**. The sampling frequency for this data was 400 Hz."
   ]
  },
  {
   "cell_type": "code",
   "execution_count": 1,
   "metadata": {},
   "outputs": [
    {
     "data": {
      "image/png": "[encoded data removed]",
      "text/plain": [
       "<Figure size 576x216 with 2 Axes>"
      ]
     },
     "metadata": {
      "needs_background": "light"
     },
     "output_type": "display_data"
    }
   ],
   "source": [
    "import numpy as np # Loads the numpy package\n",
    "import matplotlib.pyplot as plt # Loads the matplotlib package for plotting\n",
    "from tweezepy import load_trajectory # Loads in the exampled trajectory in tweezepy\n",
    "fsample = 400 # sampling frequency in Hz\n",
    "trace = load_trajectory() # load in trajectory in nm\n",
    "N = len(trace) # number of points in trajectory\n",
    "time = np.arange(N)/fsample # time in s\n",
    "fig,ax = plt.subplots(figsize=(8,3), # Figure size\n",
    "                      ncols=2, # number of columns in figure\n",
    "                      gridspec_kw={'width_ratios':[3,1], # width ratio of columns\n",
    "                                   'wspace':0}) # space between columns\n",
    "ax[0].plot(time, trace) # Plot bead positions as a function of time\n",
    "ax[1].hist(trace, bins=100, orientation = 'horizontal') # Plot histogram of bead positions\n",
    "ax[0].set_xlabel('Time (s)') # Label x axis\n",
    "ax[0].set_ylabel('Bead position (nm)') # Label yaxis\n",
    "ax[1].set_xticks([]) # Remove xticks on histogram axis\n",
    "ax[1].set_yticks([]); # Remove yticks on historgram axis"
   ]
  },
  {
   "cell_type": "markdown",
   "metadata": {},
   "source": [
    "The plot above shows the bead positions at each time point in the example trajectory and a histogram of the bead positions."
   ]
  },
  {
   "cell_type": "markdown",
   "metadata": {},
   "source": [
    "## Using the power spectral density (PSD) method\n",
    "To use the power spectral density (PSD) method, simply import and call the `PSD` class. To see all the expected inputs (parameters) and availed methods, you can use Python's built-in help() function. "
   ]
  },
  {
   "cell_type": "code",
   "execution_count": 2,
   "metadata": {},
   "outputs": [
    {
     "name": "stdout",
     "output_type": "stream",
     "text": [
      "Help on class PSD in module tweezepy.smmcalibration:\n",
      "\n",
      "class PSD(calibration, tweezepy.MLE.MLEfit)\n",
      " |  PSD(trace, fsample, bins=3)\n",
      " |  \n",
      " |  A class for computing and fitting the power spectral density using maximum likelihood estimation.\n",
      " |  \n",
      " |  Parameters\n",
      " |  ----------\n",
      " |  trace : array\n",
      " |      Bead positions in nm.\n",
      " |  fsample : float\n",
      " |      Sampling frequency in Hz\n",
      " |  bins : int, optional\n",
      " |      Number of bins, by default 3\n",
      " |  \n",
      " |  Example\n",
      " |  -------\n",
      " |  >>> from tweezepy import load_trajectory, PSD            \n",
      " |  >>> trace = load_trajectory() # Load trajectory in nm\n",
      " |  >>> psd = PSD(trace, fsample = 400) # Compute PSD using Welch's method\n",
      " |  >>> psd.mlefit() # Perform MLE fit\n",
      " |  >>> print(psd.results)\n",
      " |  \n",
      " |  Method resolution order:\n",
      " |      PSD\n",
      " |      calibration\n",
      " |      tweezepy.MLE.MLEfit\n",
      " |      tweezepy.MLE.MCMC\n",
      " |      builtins.object\n",
      " |  \n",
      " |  Methods defined here:\n",
      " |  \n",
      " |  __init__(self, trace, fsample, bins=3)\n",
      " |      Initialize self.  See help(type(self)) for accurate signature.\n",
      " |  \n",
      " |  ----------------------------------------------------------------------\n",
      " |  Methods inherited from calibration:\n",
      " |  \n",
      " |  mlefit(self, fitfunc=None, cutoffs=[-inf, inf], tracking_error=False, guess=None, gamma=None, kappa=None, epsilon=None, kT=4.1, viscosity=8.94e-10, radius=530.0, pedantic=True, scale_covar=False, **kwargs)\n",
      " |      Estimate parameters and uncertainties via maximum likelihood estimation.\n",
      " |      \n",
      " |      Parameters\n",
      " |      ----------\n",
      " |      fitfunc : str or function, optional\n",
      " |          String or user defined function, \n",
      " |          by default 'lansdorpPSD' for PSD and 'SMMAV' for AV\n",
      " |      tracking_error : bool, optional\n",
      " |          Incorporate tracking errors, by default False\n",
      " |      guess : list, optional\n",
      " |          Initial parameter guesses, by default None\n",
      " |      gamma : float, optional\n",
      " |          Fixed value for gamma parameter, by default None\n",
      " |      kappa : float, optional\n",
      " |          Fixed value for kappa parameter, by default None\n",
      " |      epsilon : float, optional\n",
      " |          Fixed value for epsilon parameter, by default None\n",
      " |      pedantic : bool, optional\n",
      " |          Ignore unhelpful warning messages, by default True\n",
      " |      kT : float, optional\n",
      " |          Thermal energy in pN nm, by default 4.1\n",
      " |      viscosity : float, optional\n",
      " |          Dynamic viscosity for initial parameter guesses in pN s/nm^2, by default 8.94e-10\n",
      " |      radius : float, optional\n",
      " |          Bead radius for inital parameter guesses in nm, by default 530.\n",
      " |  \n",
      " |  plot(self, fig=None, fig_kwgs={}, ax_fit_kwgs={}, ax_res_kwgs={}, data_label=None, fit_label=None, data_color=None, fit_color='k')\n",
      " |      Utility function for plotting \n",
      " |      \n",
      " |      Parameters\n",
      " |      ----------\n",
      " |      fig : Figure, optional\n",
      " |          Matplotlibe Figure object, by default None\n",
      " |      fig_kwgs : dict, optional\n",
      " |          Figure keyword arguments, by default {}\n",
      " |      ax_fit_kwgs : dict, optional\n",
      " |          Axis keyword arguments, by default {}\n",
      " |      ax_res_kwgs : dict, optional\n",
      " |          Axis keyword arguments, by default {}\n",
      " |      data_label : str, optional\n",
      " |          Legend label for data.\n",
      " |      fit_label : str, optional\n",
      " |          Legend label for fit line.\n",
      " |      \n",
      " |      Returns\n",
      " |      -------\n",
      " |      fig, ax : Figure, Axes\n",
      " |          Figure and axes objects.\n",
      " |  \n",
      " |  ----------------------------------------------------------------------\n",
      " |  Data descriptors inherited from calibration:\n",
      " |  \n",
      " |  data\n",
      " |      Returns dictionary of data.\n",
      " |      \n",
      " |      Returns\n",
      " |      -------\n",
      " |      dict\n",
      " |          Dictionary of data.\n",
      " |  \n",
      " |  ----------------------------------------------------------------------\n",
      " |  Methods inherited from tweezepy.MLE.MLEfit:\n",
      " |  \n",
      " |  mcmc(self, walkers=32, steps=2000, discard=100, thin=10)\n",
      " |      Runs Monte Carlo sampler and computes standard errors as 0.5*(std_u - std_l)\n",
      " |      \n",
      " |      Parameters\n",
      " |      ----------\n",
      " |      walkers : int, optional\n",
      " |          Number of walkers, by default 32\n",
      " |      steps : int, optional\n",
      " |          Number of steps to take, by default 2000\n",
      " |      discard : int, optional\n",
      " |          Number of initial steps to discard, by default 100\n",
      " |      thin : int, optional\n",
      " |          Distance between independent steps, by default 10\n",
      " |  \n",
      " |  ----------------------------------------------------------------------\n",
      " |  Readonly properties inherited from tweezepy.MLE.MLEfit:\n",
      " |  \n",
      " |  results\n",
      " |      Dictionary of MLE fit results.\n",
      " |      \n",
      " |      Returns\n",
      " |      -------\n",
      " |      dict\n",
      " |          Dictionary of MLE fit results.\n",
      " |  \n",
      " |  ----------------------------------------------------------------------\n",
      " |  Methods inherited from tweezepy.MLE.MCMC:\n",
      " |  \n",
      " |  calc_mc_errors(self, percentiles=[15.87, 50, 84.13], discard=None, thin=None)\n",
      " |      Computes percentiles from Monte Carlo samples.\n",
      " |      \n",
      " |      Parameters\n",
      " |      ----------\n",
      " |      percentiles : list, optional\n",
      " |          Percentiles for each parameter, by default [15.87,50,84.13]\n",
      " |      discard : int, optional\n",
      " |          Number of \"burn-in\" steps to discard, by default 100\n",
      " |      thin : int, optional\n",
      " |          N, by default 10\n",
      " |      \n",
      " |      Return\n",
      " |      ------\n",
      " |      errors : array\n",
      " |          Errors from Monte Carlo sampling.\n",
      " |  \n",
      " |  corner_plot(self, quantiles=[0.16, 0.84], labels=None, **kwargs)\n",
      " |      Utility function for generating corner plots.\n",
      " |      \n",
      " |      Parameters\n",
      " |      ----------\n",
      " |      quantiles : list, optional\n",
      " |          Quantiles to annotate, by default (0.16,0.84)\n",
      " |      labels : list, optional\n",
      " |          Parameter labels, by default None\n",
      " |      \n",
      " |      Returns\n",
      " |      -------\n",
      " |      fig : Figure\n",
      " |          Figure object.\n",
      " |      axes : Axes\n",
      " |          Axes object.\n",
      " |  \n",
      " |  sample_plot(self, fig=None, labels=[], fig_kwgs={}, ax_kwgs={})\n",
      " |      Plot the accepted Monte Carlo samples.\n",
      " |      \n",
      " |      Parameters\n",
      " |      ----------\n",
      " |      fig : object, optional\n",
      " |          Figure object, by default None\n",
      " |      labels : list, optional\n",
      " |          Plot labels, by default []\n",
      " |      fig_kwgs : dict, optional\n",
      " |          Figure keywords, by default {}\n",
      " |      ax_kwgs : dict, optional\n",
      " |          Axes keywords, by default {}\n",
      " |      \n",
      " |      Returns\n",
      " |      -------\n",
      " |      fig : Figure\n",
      " |          Figure object.\n",
      " |      axes : Axes\n",
      " |          Axes object.\n",
      " |  \n",
      " |  ----------------------------------------------------------------------\n",
      " |  Data descriptors inherited from tweezepy.MLE.MCMC:\n",
      " |  \n",
      " |  __dict__\n",
      " |      dictionary for instance variables (if defined)\n",
      " |  \n",
      " |  __weakref__\n",
      " |      list of weak references to the object (if defined)\n",
      "\n"
     ]
    }
   ],
   "source": [
    "from tweezepy import PSD # Load in PSD class\n",
    "help(PSD)"
   ]
  },
  {
   "cell_type": "markdown",
   "metadata": {},
   "source": [
    "### Estimating the PSD of a trajectory\n",
    "To estimate the PSD of a trajectory, simply input the trajectory (in nm) and sampling frequency (in Hz) into the `PSD` class. The `PSD` class uses Welch's method to estimate the PSD. By default, it splits the data into three half-overlapping bins, calculates the PSD for each bin, and averages them together to reduce noise. The resulting PSD values are stored in a dictionary that can be directly accessed via the data attribute."
   ]
  },
  {
   "cell_type": "code",
   "execution_count": 3,
   "metadata": {},
   "outputs": [
    {
     "name": "stdout",
     "output_type": "stream",
     "text": [
      "x  :  [7.81250000e-03 1.56250000e-02 2.34375000e-02 ... 1.99976562e+02\n",
      " 1.99984375e+02 1.99992188e+02]\n",
      "shape  :  [3. 3. 3. ... 3. 3. 3.]\n",
      "y  :  [2.36022201e+02 3.37331831e+02 2.30037921e+02 ... 2.84133014e-01\n",
      " 5.72460759e-01 8.58512762e-01]\n",
      "yerr  :  [1.36267481e+02 1.94758624e+02 1.32812456e+02 ... 1.64044272e-01\n",
      " 3.30510373e-01 4.95662574e-01]\n"
     ]
    }
   ],
   "source": [
    "psd = PSD(trace,fsample)\n",
    "for key, value in psd.data.items():\n",
    "    print(key, ' : ', value)"
   ]
  },
  {
   "cell_type": "markdown",
   "metadata": {},
   "source": [
    "The PSD values can also be plotted via the built-in plotting method."
   ]
  },
  {
   "cell_type": "code",
   "execution_count": 4,
   "metadata": {},
   "outputs": [
    {
     "data": {
      "image/png": "[encoded data removed]",
      "text/plain": [
       "<Figure size 360x360 with 1 Axes>"
      ]
     },
     "metadata": {
      "needs_background": "light"
     },
     "output_type": "display_data"
    }
   ],
   "source": [
    "psd.plot();"
   ]
  },
  {
   "cell_type": "markdown",
   "metadata": {},
   "source": [
    "The noise can be further reduced, at the cost of low frequency resolution, by changing the number of half-overlapping bins via the optional **bins** parameter in `PSD`. "
   ]
  },
  {
   "cell_type": "code",
   "execution_count": 5,
   "metadata": {},
   "outputs": [
    {
     "data": {
      "text/plain": [
       "<matplotlib.legend.Legend at 0x23316a4dfd0>"
      ]
     },
     "execution_count": 5,
     "metadata": {},
     "output_type": "execute_result"
    },
    {
     "data": {
      "image/png": "[encoded data removed]",
      "text/plain": [
       "<Figure size 432x288 with 1 Axes>"
      ]
     },
     "metadata": {
      "needs_background": "light"
     },
     "output_type": "display_data"
    }
   ],
   "source": [
    "bins = [5,15,25] # number of half-overlapping bins\n",
    "fig = plt.figure() # figure setup\n",
    "for b in bins:\n",
    "    psd = PSD(trace,fsample = fsample,bins=b) # estimate PSD values\n",
    "    fig, ax = psd.plot(fig=fig,data_label=b) # plot PSD values\n",
    "ax[0].legend(title = '# of bins') # Legend"
   ]
  },
  {
   "cell_type": "markdown",
   "metadata": {},
   "source": [
    "This figure shows the estimated PSD of the simulated bead trajectory."
   ]
  },
  {
   "cell_type": "markdown",
   "metadata": {},
   "source": [
    "### Fitting a model to the estimated PSD using maximum likelihood estimation (MLE)\n",
    "\n",
    "To fit a model to the estimated PSD and estimate parameters, simply call the PSD object and use the mlefit method. By default, it uses the analytical function from Lansdorp et al. (2012) which assumes zero dead-time and accounts for aliasing and motion blur.\n",
    "\n",
    "For this example, we will use 5 half-overlapping bins."
   ]
  },
  {
   "cell_type": "code",
   "execution_count": 10,
   "metadata": {},
   "outputs": [
    {
     "data": {
      "text/plain": [
       "<matplotlib.legend.Legend at 0x23315909a30>"
      ]
     },
     "execution_count": 10,
     "metadata": {},
     "output_type": "execute_result"
    },
    {
     "data": {
      "image/png": "[encoded data removed]",
      "text/plain": [
       "<Figure size 360x360 with 2 Axes>"
      ]
     },
     "metadata": {
      "needs_background": "light"
     },
     "output_type": "display_data"
    }
   ],
   "source": [
    "psd = PSD(trace,fsample,bins=5)\n",
    "psd.mlefit()\n",
    "fig,ax = psd.plot(data_label='data',fit_label = 'MLE fit')\n",
    "ax[0].legend()"
   ]
  },
  {
   "cell_type": "markdown",
   "metadata": {},
   "source": [
    "The figure above shows the MLE fit to the PSD estimates. \n",
    "\n",
    "The parameters and their associated uncertainties are stored in a dictionary that can be accessed directly through the results attribute."
   ]
  },
  {
   "cell_type": "code",
   "execution_count": 7,
   "metadata": {},
   "outputs": [
    {
     "data": {
      "text/latex": [
       "$\\displaystyle \\gamma = 1.0e-05\\pm5.3e-08\\textrm{ pNs/nm}$"
      ],
      "text/plain": [
       "<IPython.core.display.Math object>"
      ]
     },
     "metadata": {},
     "output_type": "display_data"
    },
    {
     "data": {
      "text/latex": [
       "$\\displaystyle \\kappa = 6.4e-04\\pm7.7e-06\\textrm{ pN/nm}$"
      ],
      "text/plain": [
       "<IPython.core.display.Math object>"
      ]
     },
     "metadata": {},
     "output_type": "display_data"
    }
   ],
   "source": [
    "from IPython.display import display, Math\n",
    "txt = r\"$\\gamma = %.1e\\pm%.1e\\textrm{ pNs/nm}$\"%(psd.results['g'],psd.results['g_error'])\n",
    "display(Math(txt))\n",
    "txt = r\"$\\kappa = %.1e\\pm%.1e\\textrm{ pN/nm}$\"%(psd.results['k'],psd.results['k_error'])\n",
    "display(Math(txt))"
   ]
  },
  {
   "cell_type": "markdown",
   "metadata": {},
   "source": [
    "## Using the Allan variance (AV) class\n",
    "Using the Allan variance (AV) class is similar to the PSD class; simply import and call the `AV` class. Use the built-in help() function to print the AV method's docstring, which includes a description of all the inputs (parameters) and methods."
   ]
  },
  {
   "cell_type": "code",
   "execution_count": 8,
   "metadata": {},
   "outputs": [
    {
     "name": "stdout",
     "output_type": "stream",
     "text": [
      "Help on class AV in module tweezepy.smmcalibration:\n",
      "\n",
      "class AV(calibration)\n",
      " |  AV(trace, fsample, taus='octave', mode='oavar', edf='real')\n",
      " |  \n",
      " |  A class for computing and fitting the Allan variance using maximum likelihood estimation.\n",
      " |  \n",
      " |  Parameters\n",
      " |  ----------\n",
      " |  trace : array\n",
      " |      Bead trajectory in nm.\n",
      " |  fsample : float\n",
      " |      Sampling frequency in Hz.\n",
      " |  taus : str, optional\n",
      " |      Tau interval sampling. Options are 'octave', 'decade', and 'all', by default 'octave'\n",
      " |  mode : str, optional\n",
      " |      Allan variance type, either 'avar', 'oavar', and 'totvar', by default 'oavar'. \n",
      " |      See allanvar module for more information.\n",
      " |  edf : str, optional\n",
      " |      Equivalent degrees of freedom for AV. Options are 'real' and 'approx', by default 'real'\n",
      " |  \n",
      " |  Raises\n",
      " |  ------\n",
      " |  AssertionError\n",
      " |      If taus, mode, or edf is not recognized.\n",
      " |  \n",
      " |  Examples\n",
      " |  --------\n",
      " |  >>> from tweezepy import load_trajectory, AV\n",
      " |  >>> trace = load_trajectory() # Load trajectory in nm\n",
      " |  >>> av = AV(trace, fsample = 400) # Compute overlapping AV\n",
      " |  >>> av.mlefit() # Perform MLE fit\n",
      " |  >>> print(av.results)\n",
      " |  \n",
      " |  Method resolution order:\n",
      " |      AV\n",
      " |      calibration\n",
      " |      tweezepy.MLE.MLEfit\n",
      " |      tweezepy.MLE.MCMC\n",
      " |      builtins.object\n",
      " |  \n",
      " |  Methods defined here:\n",
      " |  \n",
      " |  __init__(self, trace, fsample, taus='octave', mode='oavar', edf='real')\n",
      " |      Initialize self.  See help(type(self)) for accurate signature.\n",
      " |  \n",
      " |  ----------------------------------------------------------------------\n",
      " |  Methods inherited from calibration:\n",
      " |  \n",
      " |  mlefit(self, fitfunc=None, cutoffs=[-inf, inf], tracking_error=False, guess=None, gamma=None, kappa=None, epsilon=None, kT=4.1, viscosity=8.94e-10, radius=530.0, pedantic=True, scale_covar=False, **kwargs)\n",
      " |      Estimate parameters and uncertainties via maximum likelihood estimation.\n",
      " |      \n",
      " |      Parameters\n",
      " |      ----------\n",
      " |      fitfunc : str or function, optional\n",
      " |          String or user defined function, \n",
      " |          by default 'lansdorpPSD' for PSD and 'SMMAV' for AV\n",
      " |      tracking_error : bool, optional\n",
      " |          Incorporate tracking errors, by default False\n",
      " |      guess : list, optional\n",
      " |          Initial parameter guesses, by default None\n",
      " |      gamma : float, optional\n",
      " |          Fixed value for gamma parameter, by default None\n",
      " |      kappa : float, optional\n",
      " |          Fixed value for kappa parameter, by default None\n",
      " |      epsilon : float, optional\n",
      " |          Fixed value for epsilon parameter, by default None\n",
      " |      pedantic : bool, optional\n",
      " |          Ignore unhelpful warning messages, by default True\n",
      " |      kT : float, optional\n",
      " |          Thermal energy in pN nm, by default 4.1\n",
      " |      viscosity : float, optional\n",
      " |          Dynamic viscosity for initial parameter guesses in pN s/nm^2, by default 8.94e-10\n",
      " |      radius : float, optional\n",
      " |          Bead radius for inital parameter guesses in nm, by default 530.\n",
      " |  \n",
      " |  plot(self, fig=None, fig_kwgs={}, ax_fit_kwgs={}, ax_res_kwgs={}, data_label=None, fit_label=None, data_color=None, fit_color='k')\n",
      " |      Utility function for plotting \n",
      " |      \n",
      " |      Parameters\n",
      " |      ----------\n",
      " |      fig : Figure, optional\n",
      " |          Matplotlibe Figure object, by default None\n",
      " |      fig_kwgs : dict, optional\n",
      " |          Figure keyword arguments, by default {}\n",
      " |      ax_fit_kwgs : dict, optional\n",
      " |          Axis keyword arguments, by default {}\n",
      " |      ax_res_kwgs : dict, optional\n",
      " |          Axis keyword arguments, by default {}\n",
      " |      data_label : str, optional\n",
      " |          Legend label for data.\n",
      " |      fit_label : str, optional\n",
      " |          Legend label for fit line.\n",
      " |      \n",
      " |      Returns\n",
      " |      -------\n",
      " |      fig, ax : Figure, Axes\n",
      " |          Figure and axes objects.\n",
      " |  \n",
      " |  ----------------------------------------------------------------------\n",
      " |  Data descriptors inherited from calibration:\n",
      " |  \n",
      " |  data\n",
      " |      Returns dictionary of data.\n",
      " |      \n",
      " |      Returns\n",
      " |      -------\n",
      " |      dict\n",
      " |          Dictionary of data.\n",
      " |  \n",
      " |  ----------------------------------------------------------------------\n",
      " |  Methods inherited from tweezepy.MLE.MLEfit:\n",
      " |  \n",
      " |  mcmc(self, walkers=32, steps=2000, discard=100, thin=10)\n",
      " |      Runs Monte Carlo sampler and computes standard errors as 0.5*(std_u - std_l)\n",
      " |      \n",
      " |      Parameters\n",
      " |      ----------\n",
      " |      walkers : int, optional\n",
      " |          Number of walkers, by default 32\n",
      " |      steps : int, optional\n",
      " |          Number of steps to take, by default 2000\n",
      " |      discard : int, optional\n",
      " |          Number of initial steps to discard, by default 100\n",
      " |      thin : int, optional\n",
      " |          Distance between independent steps, by default 10\n",
      " |  \n",
      " |  ----------------------------------------------------------------------\n",
      " |  Readonly properties inherited from tweezepy.MLE.MLEfit:\n",
      " |  \n",
      " |  results\n",
      " |      Dictionary of MLE fit results.\n",
      " |      \n",
      " |      Returns\n",
      " |      -------\n",
      " |      dict\n",
      " |          Dictionary of MLE fit results.\n",
      " |  \n",
      " |  ----------------------------------------------------------------------\n",
      " |  Methods inherited from tweezepy.MLE.MCMC:\n",
      " |  \n",
      " |  calc_mc_errors(self, percentiles=[15.87, 50, 84.13], discard=None, thin=None)\n",
      " |      Computes percentiles from Monte Carlo samples.\n",
      " |      \n",
      " |      Parameters\n",
      " |      ----------\n",
      " |      percentiles : list, optional\n",
      " |          Percentiles for each parameter, by default [15.87,50,84.13]\n",
      " |      discard : int, optional\n",
      " |          Number of \"burn-in\" steps to discard, by default 100\n",
      " |      thin : int, optional\n",
      " |          N, by default 10\n",
      " |      \n",
      " |      Return\n",
      " |      ------\n",
      " |      errors : array\n",
      " |          Errors from Monte Carlo sampling.\n",
      " |  \n",
      " |  corner_plot(self, quantiles=[0.16, 0.84], labels=None, **kwargs)\n",
      " |      Utility function for generating corner plots.\n",
      " |      \n",
      " |      Parameters\n",
      " |      ----------\n",
      " |      quantiles : list, optional\n",
      " |          Quantiles to annotate, by default (0.16,0.84)\n",
      " |      labels : list, optional\n",
      " |          Parameter labels, by default None\n",
      " |      \n",
      " |      Returns\n",
      " |      -------\n",
      " |      fig : Figure\n",
      " |          Figure object.\n",
      " |      axes : Axes\n",
      " |          Axes object.\n",
      " |  \n",
      " |  sample_plot(self, fig=None, labels=[], fig_kwgs={}, ax_kwgs={})\n",
      " |      Plot the accepted Monte Carlo samples.\n",
      " |      \n",
      " |      Parameters\n",
      " |      ----------\n",
      " |      fig : object, optional\n",
      " |          Figure object, by default None\n",
      " |      labels : list, optional\n",
      " |          Plot labels, by default []\n",
      " |      fig_kwgs : dict, optional\n",
      " |          Figure keywords, by default {}\n",
      " |      ax_kwgs : dict, optional\n",
      " |          Axes keywords, by default {}\n",
      " |      \n",
      " |      Returns\n",
      " |      -------\n",
      " |      fig : Figure\n",
      " |          Figure object.\n",
      " |      axes : Axes\n",
      " |          Axes object.\n",
      " |  \n",
      " |  ----------------------------------------------------------------------\n",
      " |  Data descriptors inherited from tweezepy.MLE.MCMC:\n",
      " |  \n",
      " |  __dict__\n",
      " |      dictionary for instance variables (if defined)\n",
      " |  \n",
      " |  __weakref__\n",
      " |      list of weak references to the object (if defined)\n",
      "\n"
     ]
    }
   ],
   "source": [
    "from tweezepy import AV\n",
    "help(AV)"
   ]
  },
  {
   "cell_type": "markdown",
   "metadata": {},
   "source": [
    "### Estimating the AV of a trajectory\n",
    "As with the PSD class, input the trajectory (in nm) and sampling frequency (in Hz) into the `AV` class. By default, the `AV` class uses the overlapping AV, octave spaced samples, and calculates the type of noise and equivalent degrees of freedom. Because the AV method uses logarithmically spaced bins, there is no optional bins parameter, which somewhat simplifies its use for calibration."
   ]
  },
  {
   "cell_type": "code",
   "execution_count": 9,
   "metadata": {},
   "outputs": [
    {
     "data": {
      "image/png": "[encoded data removed]",
      "text/plain": [
       "<Figure size 360x360 with 1 Axes>"
      ]
     },
     "metadata": {
      "needs_background": "light"
     },
     "output_type": "display_data"
    }
   ],
   "source": [
    "av = AV(trace,fsample)\n",
    "fig, ax = av.plot()"
   ]
  },
  {
   "cell_type": "markdown",
   "metadata": {},
   "source": [
    "### Fitting a model to the estimated AV using maximum likelihood estimation (MLE)\n",
    "As with the `PSD` class, to fit a model to the estimated AV, simply call the `AV` object and use the mlefit method. By default, it uses the analytical function from Lansdorp et. al (2012). "
   ]
  },
  {
   "cell_type": "code",
   "execution_count": 31,
   "metadata": {},
   "outputs": [
    {
     "data": {
      "text/plain": [
       "<matplotlib.legend.Legend at 0x2bf99e2e6a0>"
      ]
     },
     "execution_count": 31,
     "metadata": {},
     "output_type": "execute_result"
    },
    {
     "data": {
      "image/png": "[encoded data removed]",
      "text/plain": [
       "<Figure size 360x360 with 2 Axes>"
      ]
     },
     "metadata": {
      "needs_background": "light"
     },
     "output_type": "display_data"
    }
   ],
   "source": [
    "av.mlefit()\n",
    "fig,ax = av.plot(data_label='data',fit_label = 'MLE fit')\n",
    "ax[0].legend()"
   ]
  },
  {
   "cell_type": "markdown",
   "metadata": {},
   "source": [
    "The above figure shows the MLE fit to the AV estimates.\n",
    "\n",
    "Once again, the parameters and their associated uncertainties can be accessed directly."
   ]
  },
  {
   "cell_type": "code",
   "execution_count": 11,
   "metadata": {},
   "outputs": [
    {
     "data": {
      "text/latex": [
       "$\\displaystyle \\gamma = 1.0e-05\\pm6.7e-08\\textrm{ pNs/nm}$"
      ],
      "text/plain": [
       "<IPython.core.display.Math object>"
      ]
     },
     "metadata": {},
     "output_type": "display_data"
    },
    {
     "data": {
      "text/latex": [
       "$\\displaystyle \\kappa = 6.4e-04\\pm7.3e-06\\textrm{ pN/nm}$"
      ],
      "text/plain": [
       "<IPython.core.display.Math object>"
      ]
     },
     "metadata": {},
     "output_type": "display_data"
    }
   ],
   "source": [
    "txt = r\"$\\gamma = %.1e\\pm%.1e\\textrm{ pNs/nm}$\"%(av.results['g'],av.results['g_error'])\n",
    "display(Math(txt))\n",
    "txt = r\"$\\kappa = %.1e\\pm%.1e\\textrm{ pN/nm}$\"%(av.results['k'],av.results['k_error'])\n",
    "display(Math(txt))"
   ]
  },
  {
   "cell_type": "code",
   "execution_count": null,
   "metadata": {},
   "outputs": [],
   "source": []
  }
 ],
 "metadata": {
  "interpreter": {
   "hash": "f94fc5ffea663767ae62903b10257b44f00e90761e17ce479a3f3bec4d89dc46"
  },
  "kernelspec": {
   "display_name": "Python 3.8.3 64-bit ('base': conda)",
   "name": "python3"
  },
  "language_info": {
   "codemirror_mode": {
    "name": "ipython",
    "version": 3
   },
   "file_extension": ".py",
   "mimetype": "text/x-python",
   "name": "python",
   "nbconvert_exporter": "python",
   "pygments_lexer": "ipython3",
   "version": "3.8.3"
  },
  "orig_nbformat": 4
 },
 "nbformat": 4,
 "nbformat_minor": 2
}
